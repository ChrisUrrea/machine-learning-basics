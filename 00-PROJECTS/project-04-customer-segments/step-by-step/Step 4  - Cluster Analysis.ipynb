{
 "cells": [
  {
   "cell_type": "markdown",
   "metadata": {},
   "source": [
    "<h1 style=\"font-size:42px; text-align:center; margin-bottom:30px;\"><span style=\"color:SteelBlue\">Step 4:</span> Cluster Analysis</h1>\n",
    "\n",
    "\n",
    "For clustering problems, the chosen input features are usually more important than which algorithm you use.\n",
    "* We'll apply the K-Means algorithm to 3 different feature sets.\n",
    "* because there a're no \"ground truth\" labels, there are no clear, widely-accepted performance metrics for clusters.\n",
    "* Even so, there are soft ways to compare the different clusters created from the 3 different feature sets.\n",
    "\n",
    "\n",
    "\n",
    "Summary:\n",
    "1. [K-Means](#k-means)\n",
    "2. [Base features](#base)\n",
    "3. [Threshold features](#threshold)\n",
    "4. [PCA features](#pca)\n",
    "5. [Model comparison](#comparison)\n"
   ]
  },
  {
   "cell_type": "markdown",
   "metadata": {},
   "source": [
    "### First, let's import libraries and load the datasets.\n",
    "\n",
    "First, import libraries that you'll need."
   ]
  },
  {
   "cell_type": "code",
   "execution_count": 8,
   "metadata": {
    "collapsed": true
   },
   "outputs": [],
   "source": [
    "# Imporitng Ze libraries\n",
    "\n",
    "# NumPy for numerical computing\n",
    "import numpy as np\n",
    "# Pandas for DataFrames\n",
    "import pandas as pd\n",
    "# Matplotlib for visualization\n",
    "import matplotlib.pyplot as plt\n",
    "# display plots in the notebook\n",
    "%matplotlib inline\n",
    "# Seaborn for easier visualization\n",
    "import seaborn as sns\n",
    "# StandardScaler from Scikit-Learn\n",
    "from sklearn.preprocessing import StandardScaler\n",
    "# ScikitLearn's make_pipeline \n",
    "from sklearn.pipeline import make_pipeline"
   ]
  },
  {
   "cell_type": "markdown",
   "metadata": {},
   "source": [
    "**Importing the  3 CSV files we've saved throughout this project.**\n",
    "* <code style=\"color:crimson\">'analytical_base_table.csv'</code> (created in Step 1) as <code style=\"color:steelblue\">base_df</code>. \n",
    "* <code style=\"color:crimson\">'threshold_item_data.csv'</code> (created in Step 2) as <code style=\"color:steelblue\">threshold_item_data</code>. \n",
    "*  <code style=\"color:crimson\">'pca_item_data.csv'</code> (created in Step 3) as <code style=\"color:steelblue\">pca_item_data</code>. \n",
    "* <code style=\"color:steelblue\">index_col=0</code> for each one to use CustomerID as the index."
   ]
  },
  {
   "cell_type": "code",
   "execution_count": 9,
   "metadata": {},
   "outputs": [],
   "source": [
    "# Import analytical base table\n",
    "base_df = pd.read_csv('analytical_base_table.csv')\n",
    "# Import thresholded item features\n",
    "threshold_item_data = pd.read_csv('threshold_item_data.csv')\n",
    "# Import PCA item features\n",
    "pca_item_data = pd.read_csv('pca_item_data.csv')"
   ]
  },
  {
   "cell_type": "markdown",
   "metadata": {},
   "source": [
    "**Print the shape of each one to make sure we're on the same page.**"
   ]
  },
  {
   "cell_type": "code",
   "execution_count": 10,
   "metadata": {},
   "outputs": [
    {
     "name": "stdout",
     "output_type": "stream",
     "text": [
      "(414, 9)\n",
      "(414, 21)\n",
      "(414, 201)\n"
     ]
    }
   ],
   "source": [
    "# Print shape of each dataframe\n",
    "print(base_df.shape)\n",
    "print(threshold_item_data.shape)\n",
    "print(pca_item_data.shape)"
   ]
  },
  {
   "cell_type": "markdown",
   "metadata": {},
   "source": [
    "# 1. K-Means\n",
    "\n",
    "Typically, the best clustering model is the one that creates clusters that are intuitive and reasonable in the eyes of the key stakeholder (i.e. our client, the online gift retailer).\n",
    "\n",
    "Consequently, which algorithm you choose is typically less important than the **input features** that you feed into it. We will use K-means.\n",
    "\n",
    "K-Means works as follows:\n",
    "\n",
    "1. declare a hyperparameter kk, the number of different clusters you want.\n",
    "2. The algorithm initializes kk random points in your feature space (called centroids).\n",
    "3. For each observation in your dataset, its distance to each centroid is calculated.\n",
    "4. Each observation is assigned to the cluster of its closest centroid.\n",
    "5. Then, each centroid is shifted to the mean of the observations assigned to that cluster.\n",
    "6. Repeating Steps (3) - (5) until the centroids no longer shift. --\n",
    "\n",
    "In short, this process produces kk clusters that \"clump together\" observations based on distance.\n",
    "<br>\n",
    "\n",
    " K-Means creates clusters based on distances, and because distances are calculated by between observations defined by their feature values, the features inputed into the algorithm heavily influence the clusters that are created.\n",
    " \n",
    "We'll try clustering using our 3 different dataset:\n",
    "1. Only purchase pattern features (\"Base DF\")\n",
    "2. Purchase pattern features + item features chosen by thresholding (\"Threshold DF\")\n",
    "3. Purchase pattern features + principal component features from items (\"PCA DF\")\n",
    " \n",
    "**Using the <code style=\"color:steelblue\">base_df</code> --->** \n",
    "**We'll create a <code style=\"color:steelblue\">threshold_df</code> by joining it with <code style=\"color:steelblue\">threshold_item_data</code>.**"
   ]
  },
  {
   "cell_type": "code",
   "execution_count": 22,
   "metadata": {},
   "outputs": [
    {
     "data": {
      "text/html": [
       "<div>\n",
       "<style>\n",
       "    .dataframe thead tr:only-child th {\n",
       "        text-align: right;\n",
       "    }\n",
       "\n",
       "    .dataframe thead th {\n",
       "        text-align: left;\n",
       "    }\n",
       "\n",
       "    .dataframe tbody tr th {\n",
       "        vertical-align: top;\n",
       "    }\n",
       "</style>\n",
       "<table border=\"1\" class=\"dataframe\">\n",
       "  <thead>\n",
       "    <tr style=\"text-align: right;\">\n",
       "      <th></th>\n",
       "      <th>CustomerID</th>\n",
       "      <th>total_transactions</th>\n",
       "      <th>total_unique_products</th>\n",
       "      <th>total_products</th>\n",
       "      <th>total_sales</th>\n",
       "      <th>avg_product_value</th>\n",
       "      <th>avg_cart_value</th>\n",
       "      <th>min_cart_value</th>\n",
       "      <th>max_cart_value</th>\n",
       "      <th>22961</th>\n",
       "      <th>...</th>\n",
       "      <th>21212</th>\n",
       "      <th>22551</th>\n",
       "      <th>22629</th>\n",
       "      <th>22328</th>\n",
       "      <th>21731</th>\n",
       "      <th>22556</th>\n",
       "      <th>22554</th>\n",
       "      <th>22423</th>\n",
       "      <th>22326</th>\n",
       "      <th>POST</th>\n",
       "    </tr>\n",
       "  </thead>\n",
       "  <tbody>\n",
       "    <tr>\n",
       "      <th>0</th>\n",
       "      <td>12347</td>\n",
       "      <td>7</td>\n",
       "      <td>103</td>\n",
       "      <td>182</td>\n",
       "      <td>4310.00</td>\n",
       "      <td>23.681319</td>\n",
       "      <td>615.714286</td>\n",
       "      <td>224.82</td>\n",
       "      <td>1294.32</td>\n",
       "      <td>0</td>\n",
       "      <td>...</td>\n",
       "      <td>0</td>\n",
       "      <td>0</td>\n",
       "      <td>0</td>\n",
       "      <td>0</td>\n",
       "      <td>5</td>\n",
       "      <td>0</td>\n",
       "      <td>0</td>\n",
       "      <td>4</td>\n",
       "      <td>0</td>\n",
       "      <td>0</td>\n",
       "    </tr>\n",
       "    <tr>\n",
       "      <th>1</th>\n",
       "      <td>12348</td>\n",
       "      <td>4</td>\n",
       "      <td>22</td>\n",
       "      <td>31</td>\n",
       "      <td>1797.24</td>\n",
       "      <td>57.975484</td>\n",
       "      <td>449.310000</td>\n",
       "      <td>227.44</td>\n",
       "      <td>892.80</td>\n",
       "      <td>0</td>\n",
       "      <td>...</td>\n",
       "      <td>0</td>\n",
       "      <td>0</td>\n",
       "      <td>0</td>\n",
       "      <td>0</td>\n",
       "      <td>0</td>\n",
       "      <td>0</td>\n",
       "      <td>0</td>\n",
       "      <td>0</td>\n",
       "      <td>0</td>\n",
       "      <td>4</td>\n",
       "    </tr>\n",
       "    <tr>\n",
       "      <th>2</th>\n",
       "      <td>12349</td>\n",
       "      <td>1</td>\n",
       "      <td>73</td>\n",
       "      <td>73</td>\n",
       "      <td>1757.55</td>\n",
       "      <td>24.076027</td>\n",
       "      <td>1757.550000</td>\n",
       "      <td>1757.55</td>\n",
       "      <td>1757.55</td>\n",
       "      <td>0</td>\n",
       "      <td>...</td>\n",
       "      <td>0</td>\n",
       "      <td>0</td>\n",
       "      <td>0</td>\n",
       "      <td>0</td>\n",
       "      <td>0</td>\n",
       "      <td>1</td>\n",
       "      <td>1</td>\n",
       "      <td>1</td>\n",
       "      <td>1</td>\n",
       "      <td>1</td>\n",
       "    </tr>\n",
       "    <tr>\n",
       "      <th>3</th>\n",
       "      <td>12350</td>\n",
       "      <td>1</td>\n",
       "      <td>17</td>\n",
       "      <td>17</td>\n",
       "      <td>334.40</td>\n",
       "      <td>19.670588</td>\n",
       "      <td>334.400000</td>\n",
       "      <td>334.40</td>\n",
       "      <td>334.40</td>\n",
       "      <td>0</td>\n",
       "      <td>...</td>\n",
       "      <td>0</td>\n",
       "      <td>1</td>\n",
       "      <td>0</td>\n",
       "      <td>0</td>\n",
       "      <td>0</td>\n",
       "      <td>0</td>\n",
       "      <td>0</td>\n",
       "      <td>0</td>\n",
       "      <td>0</td>\n",
       "      <td>1</td>\n",
       "    </tr>\n",
       "    <tr>\n",
       "      <th>4</th>\n",
       "      <td>12352</td>\n",
       "      <td>8</td>\n",
       "      <td>59</td>\n",
       "      <td>85</td>\n",
       "      <td>2506.04</td>\n",
       "      <td>29.482824</td>\n",
       "      <td>313.255000</td>\n",
       "      <td>120.33</td>\n",
       "      <td>840.30</td>\n",
       "      <td>0</td>\n",
       "      <td>...</td>\n",
       "      <td>0</td>\n",
       "      <td>0</td>\n",
       "      <td>0</td>\n",
       "      <td>0</td>\n",
       "      <td>1</td>\n",
       "      <td>0</td>\n",
       "      <td>0</td>\n",
       "      <td>2</td>\n",
       "      <td>0</td>\n",
       "      <td>5</td>\n",
       "    </tr>\n",
       "  </tbody>\n",
       "</table>\n",
       "<p>5 rows × 29 columns</p>\n",
       "</div>"
      ],
      "text/plain": [
       "   CustomerID  total_transactions  total_unique_products  total_products  \\\n",
       "0       12347                   7                    103             182   \n",
       "1       12348                   4                     22              31   \n",
       "2       12349                   1                     73              73   \n",
       "3       12350                   1                     17              17   \n",
       "4       12352                   8                     59              85   \n",
       "\n",
       "   total_sales  avg_product_value  avg_cart_value  min_cart_value  \\\n",
       "0      4310.00          23.681319      615.714286          224.82   \n",
       "1      1797.24          57.975484      449.310000          227.44   \n",
       "2      1757.55          24.076027     1757.550000         1757.55   \n",
       "3       334.40          19.670588      334.400000          334.40   \n",
       "4      2506.04          29.482824      313.255000          120.33   \n",
       "\n",
       "   max_cart_value  22961  ...   21212  22551  22629  22328  21731  22556  \\\n",
       "0         1294.32      0  ...       0      0      0      0      5      0   \n",
       "1          892.80      0  ...       0      0      0      0      0      0   \n",
       "2         1757.55      0  ...       0      0      0      0      0      1   \n",
       "3          334.40      0  ...       0      1      0      0      0      0   \n",
       "4          840.30      0  ...       0      0      0      0      1      0   \n",
       "\n",
       "   22554  22423  22326  POST  \n",
       "0      0      4      0     0  \n",
       "1      0      0      0     4  \n",
       "2      1      1      1     1  \n",
       "3      0      0      0     1  \n",
       "4      0      2      0     5  \n",
       "\n",
       "[5 rows x 29 columns]"
      ]
     },
     "execution_count": 22,
     "metadata": {},
     "output_type": "execute_result"
    }
   ],
   "source": [
    "# Join base_df with threshold_item_data\n",
    "threshold_df = pd.merge(base_df, threshold_item_data, on='CustomerID')\n",
    "# Display first 5 rows of threshold_df\n",
    "threshold_df.head()"
   ]
  },
  {
   "cell_type": "markdown",
   "metadata": {},
   "source": [
    "**Creating <code style=\"color:steelblue\">pca_df</code> by joining <code style=\"color:steelblue\">base_df</code> with <code style=\"color:steelblue\">pca_item_data</code>.**"
   ]
  },
  {
   "cell_type": "code",
   "execution_count": 23,
   "metadata": {},
   "outputs": [
    {
     "data": {
      "text/html": [
       "<div>\n",
       "<style>\n",
       "    .dataframe thead tr:only-child th {\n",
       "        text-align: right;\n",
       "    }\n",
       "\n",
       "    .dataframe thead th {\n",
       "        text-align: left;\n",
       "    }\n",
       "\n",
       "    .dataframe tbody tr th {\n",
       "        vertical-align: top;\n",
       "    }\n",
       "</style>\n",
       "<table border=\"1\" class=\"dataframe\">\n",
       "  <thead>\n",
       "    <tr style=\"text-align: right;\">\n",
       "      <th></th>\n",
       "      <th>CustomerID</th>\n",
       "      <th>total_transactions</th>\n",
       "      <th>total_unique_products</th>\n",
       "      <th>total_products</th>\n",
       "      <th>total_sales</th>\n",
       "      <th>avg_product_value</th>\n",
       "      <th>avg_cart_value</th>\n",
       "      <th>min_cart_value</th>\n",
       "      <th>max_cart_value</th>\n",
       "      <th>PC27</th>\n",
       "      <th>...</th>\n",
       "      <th>PC74</th>\n",
       "      <th>PC92</th>\n",
       "      <th>PC115</th>\n",
       "      <th>PC153</th>\n",
       "      <th>PC21</th>\n",
       "      <th>PC154</th>\n",
       "      <th>PC181</th>\n",
       "      <th>PC79</th>\n",
       "      <th>PC90</th>\n",
       "      <th>PC83</th>\n",
       "    </tr>\n",
       "  </thead>\n",
       "  <tbody>\n",
       "    <tr>\n",
       "      <th>0</th>\n",
       "      <td>12347</td>\n",
       "      <td>7</td>\n",
       "      <td>103</td>\n",
       "      <td>182</td>\n",
       "      <td>4310.00</td>\n",
       "      <td>23.681319</td>\n",
       "      <td>615.714286</td>\n",
       "      <td>224.82</td>\n",
       "      <td>1294.32</td>\n",
       "      <td>5.876140</td>\n",
       "      <td>...</td>\n",
       "      <td>0.285553</td>\n",
       "      <td>-0.036518</td>\n",
       "      <td>0.304538</td>\n",
       "      <td>0.066348</td>\n",
       "      <td>0.091724</td>\n",
       "      <td>0.081520</td>\n",
       "      <td>0.031085</td>\n",
       "      <td>-0.026535</td>\n",
       "      <td>0.348184</td>\n",
       "      <td>-0.175728</td>\n",
       "    </tr>\n",
       "    <tr>\n",
       "      <th>1</th>\n",
       "      <td>12348</td>\n",
       "      <td>4</td>\n",
       "      <td>22</td>\n",
       "      <td>31</td>\n",
       "      <td>1797.24</td>\n",
       "      <td>57.975484</td>\n",
       "      <td>449.310000</td>\n",
       "      <td>227.44</td>\n",
       "      <td>892.80</td>\n",
       "      <td>-4.219837</td>\n",
       "      <td>...</td>\n",
       "      <td>0.460968</td>\n",
       "      <td>-4.765365</td>\n",
       "      <td>0.181128</td>\n",
       "      <td>-0.060220</td>\n",
       "      <td>2.299782</td>\n",
       "      <td>0.318007</td>\n",
       "      <td>-4.587247</td>\n",
       "      <td>7.146414</td>\n",
       "      <td>-2.880113</td>\n",
       "      <td>-1.147965</td>\n",
       "    </tr>\n",
       "    <tr>\n",
       "      <th>2</th>\n",
       "      <td>12349</td>\n",
       "      <td>1</td>\n",
       "      <td>73</td>\n",
       "      <td>73</td>\n",
       "      <td>1757.55</td>\n",
       "      <td>24.076027</td>\n",
       "      <td>1757.550000</td>\n",
       "      <td>1757.55</td>\n",
       "      <td>1757.55</td>\n",
       "      <td>-1.260846</td>\n",
       "      <td>...</td>\n",
       "      <td>-0.858036</td>\n",
       "      <td>3.032593</td>\n",
       "      <td>0.626667</td>\n",
       "      <td>-4.306286</td>\n",
       "      <td>-0.254076</td>\n",
       "      <td>-0.276820</td>\n",
       "      <td>-2.182513</td>\n",
       "      <td>2.463688</td>\n",
       "      <td>-0.178603</td>\n",
       "      <td>-0.136216</td>\n",
       "    </tr>\n",
       "    <tr>\n",
       "      <th>3</th>\n",
       "      <td>12350</td>\n",
       "      <td>1</td>\n",
       "      <td>17</td>\n",
       "      <td>17</td>\n",
       "      <td>334.40</td>\n",
       "      <td>19.670588</td>\n",
       "      <td>334.400000</td>\n",
       "      <td>334.40</td>\n",
       "      <td>334.40</td>\n",
       "      <td>-4.929320</td>\n",
       "      <td>...</td>\n",
       "      <td>0.796385</td>\n",
       "      <td>0.850550</td>\n",
       "      <td>0.382694</td>\n",
       "      <td>-1.900388</td>\n",
       "      <td>0.025241</td>\n",
       "      <td>2.102687</td>\n",
       "      <td>0.208891</td>\n",
       "      <td>-1.107115</td>\n",
       "      <td>-1.130929</td>\n",
       "      <td>3.428857</td>\n",
       "    </tr>\n",
       "    <tr>\n",
       "      <th>4</th>\n",
       "      <td>12352</td>\n",
       "      <td>8</td>\n",
       "      <td>59</td>\n",
       "      <td>85</td>\n",
       "      <td>2506.04</td>\n",
       "      <td>29.482824</td>\n",
       "      <td>313.255000</td>\n",
       "      <td>120.33</td>\n",
       "      <td>840.30</td>\n",
       "      <td>-2.053114</td>\n",
       "      <td>...</td>\n",
       "      <td>1.952904</td>\n",
       "      <td>-0.335511</td>\n",
       "      <td>1.161181</td>\n",
       "      <td>-0.013836</td>\n",
       "      <td>1.580158</td>\n",
       "      <td>1.933953</td>\n",
       "      <td>-0.662787</td>\n",
       "      <td>1.746364</td>\n",
       "      <td>-0.679615</td>\n",
       "      <td>-0.423264</td>\n",
       "    </tr>\n",
       "  </tbody>\n",
       "</table>\n",
       "<p>5 rows × 209 columns</p>\n",
       "</div>"
      ],
      "text/plain": [
       "   CustomerID  total_transactions  total_unique_products  total_products  \\\n",
       "0       12347                   7                    103             182   \n",
       "1       12348                   4                     22              31   \n",
       "2       12349                   1                     73              73   \n",
       "3       12350                   1                     17              17   \n",
       "4       12352                   8                     59              85   \n",
       "\n",
       "   total_sales  avg_product_value  avg_cart_value  min_cart_value  \\\n",
       "0      4310.00          23.681319      615.714286          224.82   \n",
       "1      1797.24          57.975484      449.310000          227.44   \n",
       "2      1757.55          24.076027     1757.550000         1757.55   \n",
       "3       334.40          19.670588      334.400000          334.40   \n",
       "4      2506.04          29.482824      313.255000          120.33   \n",
       "\n",
       "   max_cart_value      PC27    ...         PC74      PC92     PC115     PC153  \\\n",
       "0         1294.32  5.876140    ...     0.285553 -0.036518  0.304538  0.066348   \n",
       "1          892.80 -4.219837    ...     0.460968 -4.765365  0.181128 -0.060220   \n",
       "2         1757.55 -1.260846    ...    -0.858036  3.032593  0.626667 -4.306286   \n",
       "3          334.40 -4.929320    ...     0.796385  0.850550  0.382694 -1.900388   \n",
       "4          840.30 -2.053114    ...     1.952904 -0.335511  1.161181 -0.013836   \n",
       "\n",
       "       PC21     PC154     PC181      PC79      PC90      PC83  \n",
       "0  0.091724  0.081520  0.031085 -0.026535  0.348184 -0.175728  \n",
       "1  2.299782  0.318007 -4.587247  7.146414 -2.880113 -1.147965  \n",
       "2 -0.254076 -0.276820 -2.182513  2.463688 -0.178603 -0.136216  \n",
       "3  0.025241  2.102687  0.208891 -1.107115 -1.130929  3.428857  \n",
       "4  1.580158  1.933953 -0.662787  1.746364 -0.679615 -0.423264  \n",
       "\n",
       "[5 rows x 209 columns]"
      ]
     },
     "execution_count": 23,
     "metadata": {},
     "output_type": "execute_result"
    }
   ],
   "source": [
    "# Join base_df with pca_item_data\n",
    "pca_df = pd.merge(base_df, pca_item_data, on='CustomerID')\n",
    "# Display first 5 rows of pca_df\n",
    "pca_df.head()"
   ]
  },
  {
   "cell_type": "markdown",
   "metadata": {},
   "source": [
    "# 2. Base DF\n",
    "\n",
    "First set of features we'll consider as **\"Base DF\"**. \n",
    "* This only includes the purchase pattern features from our analytical base table.\n"
   ]
  },
  {
   "cell_type": "code",
   "execution_count": 20,
   "metadata": {},
   "outputs": [
    {
     "data": {
      "text/html": [
       "<div>\n",
       "<style>\n",
       "    .dataframe thead tr:only-child th {\n",
       "        text-align: right;\n",
       "    }\n",
       "\n",
       "    .dataframe thead th {\n",
       "        text-align: left;\n",
       "    }\n",
       "\n",
       "    .dataframe tbody tr th {\n",
       "        vertical-align: top;\n",
       "    }\n",
       "</style>\n",
       "<table border=\"1\" class=\"dataframe\">\n",
       "  <thead>\n",
       "    <tr style=\"text-align: right;\">\n",
       "      <th></th>\n",
       "      <th>CustomerID</th>\n",
       "      <th>total_transactions</th>\n",
       "      <th>total_unique_products</th>\n",
       "      <th>total_products</th>\n",
       "      <th>total_sales</th>\n",
       "      <th>avg_product_value</th>\n",
       "      <th>avg_cart_value</th>\n",
       "      <th>min_cart_value</th>\n",
       "      <th>max_cart_value</th>\n",
       "    </tr>\n",
       "  </thead>\n",
       "  <tbody>\n",
       "    <tr>\n",
       "      <th>0</th>\n",
       "      <td>12347</td>\n",
       "      <td>7</td>\n",
       "      <td>103</td>\n",
       "      <td>182</td>\n",
       "      <td>4310.00</td>\n",
       "      <td>23.681319</td>\n",
       "      <td>615.714286</td>\n",
       "      <td>224.82</td>\n",
       "      <td>1294.32</td>\n",
       "    </tr>\n",
       "    <tr>\n",
       "      <th>1</th>\n",
       "      <td>12348</td>\n",
       "      <td>4</td>\n",
       "      <td>22</td>\n",
       "      <td>31</td>\n",
       "      <td>1797.24</td>\n",
       "      <td>57.975484</td>\n",
       "      <td>449.310000</td>\n",
       "      <td>227.44</td>\n",
       "      <td>892.80</td>\n",
       "    </tr>\n",
       "    <tr>\n",
       "      <th>2</th>\n",
       "      <td>12349</td>\n",
       "      <td>1</td>\n",
       "      <td>73</td>\n",
       "      <td>73</td>\n",
       "      <td>1757.55</td>\n",
       "      <td>24.076027</td>\n",
       "      <td>1757.550000</td>\n",
       "      <td>1757.55</td>\n",
       "      <td>1757.55</td>\n",
       "    </tr>\n",
       "    <tr>\n",
       "      <th>3</th>\n",
       "      <td>12350</td>\n",
       "      <td>1</td>\n",
       "      <td>17</td>\n",
       "      <td>17</td>\n",
       "      <td>334.40</td>\n",
       "      <td>19.670588</td>\n",
       "      <td>334.400000</td>\n",
       "      <td>334.40</td>\n",
       "      <td>334.40</td>\n",
       "    </tr>\n",
       "    <tr>\n",
       "      <th>4</th>\n",
       "      <td>12352</td>\n",
       "      <td>8</td>\n",
       "      <td>59</td>\n",
       "      <td>85</td>\n",
       "      <td>2506.04</td>\n",
       "      <td>29.482824</td>\n",
       "      <td>313.255000</td>\n",
       "      <td>120.33</td>\n",
       "      <td>840.30</td>\n",
       "    </tr>\n",
       "  </tbody>\n",
       "</table>\n",
       "</div>"
      ],
      "text/plain": [
       "   CustomerID  total_transactions  total_unique_products  total_products  \\\n",
       "0       12347                   7                    103             182   \n",
       "1       12348                   4                     22              31   \n",
       "2       12349                   1                     73              73   \n",
       "3       12350                   1                     17              17   \n",
       "4       12352                   8                     59              85   \n",
       "\n",
       "   total_sales  avg_product_value  avg_cart_value  min_cart_value  \\\n",
       "0      4310.00          23.681319      615.714286          224.82   \n",
       "1      1797.24          57.975484      449.310000          227.44   \n",
       "2      1757.55          24.076027     1757.550000         1757.55   \n",
       "3       334.40          19.670588      334.400000          334.40   \n",
       "4      2506.04          29.482824      313.255000          120.33   \n",
       "\n",
       "   max_cart_value  \n",
       "0         1294.32  \n",
       "1          892.80  \n",
       "2         1757.55  \n",
       "3          334.40  \n",
       "4          840.30  "
      ]
     },
     "execution_count": 20,
     "metadata": {},
     "output_type": "execute_result"
    }
   ],
   "source": [
    "# First 5 observations of base_df\n",
    "base_df.head()"
   ]
  },
  {
   "cell_type": "markdown",
   "metadata": {},
   "source": [
    "As we see our variables are on distinct scales. K-Means calculates clusters based on distances, so we will scale our features before fitting the model as large unscaled feature (with large variances) will to dominate our algorithm.\n",
    "\n",
    "**Initializing the model pipeline for K-Means.**\n",
    "* Adjusting the number of clusters hyperparameter $k$.\n",
    "* Setting <code style=\"color:steelblue\">random_state=0</code> for replicable results. "
   ]
  },
  {
   "cell_type": "code",
   "execution_count": 26,
   "metadata": {},
   "outputs": [],
   "source": [
    "# K-Means model pipeline\n",
    "from sklearn.cluster import KMeans\n",
    "k_means = make_pipeline(StandardScaler(), KMeans(n_clusters=3))"
   ]
  },
  {
   "cell_type": "markdown",
   "metadata": {},
   "source": [
    "**fitting the model from our pipeline**"
   ]
  },
  {
   "cell_type": "code",
   "execution_count": 27,
   "metadata": {},
   "outputs": [
    {
     "data": {
      "text/plain": [
       "Pipeline(memory=None,\n",
       "     steps=[('standardscaler', StandardScaler(copy=True, with_mean=True, with_std=True)), ('kmeans', KMeans(algorithm='auto', copy_x=True, init='k-means++', max_iter=300,\n",
       "    n_clusters=3, n_init=10, n_jobs=1, precompute_distances='auto',\n",
       "    random_state=None, tol=0.0001, verbose=0))])"
      ]
     },
     "execution_count": 27,
     "metadata": {},
     "output_type": "execute_result"
    }
   ],
   "source": [
    "# Fit K-Means pipeline\n",
    "k_means.fit(base_df)"
   ]
  },
  {
   "cell_type": "markdown",
   "metadata": {},
   "source": [
    "**Saving the clusters to our dataframe.**"
   ]
  },
  {
   "cell_type": "code",
   "execution_count": 28,
   "metadata": {},
   "outputs": [
    {
     "data": {
      "text/html": [
       "<div>\n",
       "<style>\n",
       "    .dataframe thead tr:only-child th {\n",
       "        text-align: right;\n",
       "    }\n",
       "\n",
       "    .dataframe thead th {\n",
       "        text-align: left;\n",
       "    }\n",
       "\n",
       "    .dataframe tbody tr th {\n",
       "        vertical-align: top;\n",
       "    }\n",
       "</style>\n",
       "<table border=\"1\" class=\"dataframe\">\n",
       "  <thead>\n",
       "    <tr style=\"text-align: right;\">\n",
       "      <th></th>\n",
       "      <th>CustomerID</th>\n",
       "      <th>total_transactions</th>\n",
       "      <th>total_unique_products</th>\n",
       "      <th>total_products</th>\n",
       "      <th>total_sales</th>\n",
       "      <th>avg_product_value</th>\n",
       "      <th>avg_cart_value</th>\n",
       "      <th>min_cart_value</th>\n",
       "      <th>max_cart_value</th>\n",
       "      <th>clusters</th>\n",
       "    </tr>\n",
       "  </thead>\n",
       "  <tbody>\n",
       "    <tr>\n",
       "      <th>0</th>\n",
       "      <td>12347</td>\n",
       "      <td>7</td>\n",
       "      <td>103</td>\n",
       "      <td>182</td>\n",
       "      <td>4310.00</td>\n",
       "      <td>23.681319</td>\n",
       "      <td>615.714286</td>\n",
       "      <td>224.82</td>\n",
       "      <td>1294.32</td>\n",
       "      <td>1</td>\n",
       "    </tr>\n",
       "    <tr>\n",
       "      <th>1</th>\n",
       "      <td>12348</td>\n",
       "      <td>4</td>\n",
       "      <td>22</td>\n",
       "      <td>31</td>\n",
       "      <td>1797.24</td>\n",
       "      <td>57.975484</td>\n",
       "      <td>449.310000</td>\n",
       "      <td>227.44</td>\n",
       "      <td>892.80</td>\n",
       "      <td>0</td>\n",
       "    </tr>\n",
       "    <tr>\n",
       "      <th>2</th>\n",
       "      <td>12349</td>\n",
       "      <td>1</td>\n",
       "      <td>73</td>\n",
       "      <td>73</td>\n",
       "      <td>1757.55</td>\n",
       "      <td>24.076027</td>\n",
       "      <td>1757.550000</td>\n",
       "      <td>1757.55</td>\n",
       "      <td>1757.55</td>\n",
       "      <td>0</td>\n",
       "    </tr>\n",
       "    <tr>\n",
       "      <th>3</th>\n",
       "      <td>12350</td>\n",
       "      <td>1</td>\n",
       "      <td>17</td>\n",
       "      <td>17</td>\n",
       "      <td>334.40</td>\n",
       "      <td>19.670588</td>\n",
       "      <td>334.400000</td>\n",
       "      <td>334.40</td>\n",
       "      <td>334.40</td>\n",
       "      <td>0</td>\n",
       "    </tr>\n",
       "    <tr>\n",
       "      <th>4</th>\n",
       "      <td>12352</td>\n",
       "      <td>8</td>\n",
       "      <td>59</td>\n",
       "      <td>85</td>\n",
       "      <td>2506.04</td>\n",
       "      <td>29.482824</td>\n",
       "      <td>313.255000</td>\n",
       "      <td>120.33</td>\n",
       "      <td>840.30</td>\n",
       "      <td>0</td>\n",
       "    </tr>\n",
       "  </tbody>\n",
       "</table>\n",
       "</div>"
      ],
      "text/plain": [
       "   CustomerID  total_transactions  total_unique_products  total_products  \\\n",
       "0       12347                   7                    103             182   \n",
       "1       12348                   4                     22              31   \n",
       "2       12349                   1                     73              73   \n",
       "3       12350                   1                     17              17   \n",
       "4       12352                   8                     59              85   \n",
       "\n",
       "   total_sales  avg_product_value  avg_cart_value  min_cart_value  \\\n",
       "0      4310.00          23.681319      615.714286          224.82   \n",
       "1      1797.24          57.975484      449.310000          227.44   \n",
       "2      1757.55          24.076027     1757.550000         1757.55   \n",
       "3       334.40          19.670588      334.400000          334.40   \n",
       "4      2506.04          29.482824      313.255000          120.33   \n",
       "\n",
       "   max_cart_value  clusters  \n",
       "0         1294.32         1  \n",
       "1          892.80         0  \n",
       "2         1757.55         0  \n",
       "3          334.40         0  \n",
       "4          840.30         0  "
      ]
     },
     "execution_count": 28,
     "metadata": {},
     "output_type": "execute_result"
    }
   ],
   "source": [
    "# Save clusters to base_df\n",
    "base_df['clusters'] = k_means.predict(base_df)\n",
    "# Display first 5 rows of base_df\n",
    "base_df.head()"
   ]
  },
  {
   "cell_type": "markdown",
   "metadata": {},
   "source": [
    "**Visualizing our clusters on a scatterplot and color the points by cluster.**\n",
    "* Since it's impossible to visualize all of the features, we'll pick the 2 features we believe most important:  <code style=\"color:steelblue\">total_sales and avg_cart_value</code>.\n",
    "* <code style=\"color:steelblue\">hue=</code> argument to color by cluster."
   ]
  },
  {
   "cell_type": "code",
   "execution_count": 32,
   "metadata": {
    "scrolled": false
   },
   "outputs": [
    {
     "data": {
      "text/plain": [
       "<seaborn.axisgrid.FacetGrid at 0x1a224b6710>"
      ]
     },
     "execution_count": 32,
     "metadata": {},
     "output_type": "execute_result"
    },
    {
     "data": {
      "image/png": "[encoded data removed]",
      "text/plain": [
       "<matplotlib.figure.Figure at 0x1a224b64a8>"
      ]
     },
     "metadata": {},
     "output_type": "display_data"
    }
   ],
   "source": [
    "# Scatterplot, colored by cluster\n",
    "sns.lmplot(x='avg_cart_value',y='total_sales', hue='clusters', data=base_df, fit_reg=False)"
   ]
  },
  {
   "cell_type": "markdown",
   "metadata": {},
   "source": [
    "# 3. Threshold DF\n",
    "\n",
    "The second set of features to cluster is **\"Threshold DF\"**. \n",
    "* It includes the purchase pattern features from our analytical base table.\n",
    "* It also includes the purchase counts for the 20 most popular items."
   ]
  },
  {
   "cell_type": "code",
   "execution_count": 55,
   "metadata": {},
   "outputs": [],
   "source": [
    "# K-Means model pipeline\n",
    "k_means2 = make_pipeline(StandardScaler(), KMeans(n_clusters=3))"
   ]
  },
  {
   "cell_type": "markdown",
   "metadata": {},
   "source": [
    "**fitting the K-Means model pipeline**"
   ]
  },
  {
   "cell_type": "code",
   "execution_count": 56,
   "metadata": {},
   "outputs": [
    {
     "data": {
      "text/plain": [
       "Pipeline(memory=None,\n",
       "     steps=[('standardscaler', StandardScaler(copy=True, with_mean=True, with_std=True)), ('kmeans', KMeans(algorithm='auto', copy_x=True, init='k-means++', max_iter=300,\n",
       "    n_clusters=3, n_init=10, n_jobs=1, precompute_distances='auto',\n",
       "    random_state=None, tol=0.0001, verbose=0))])"
      ]
     },
     "execution_count": 56,
     "metadata": {},
     "output_type": "execute_result"
    }
   ],
   "source": [
    "# Fit K-Means pipeline\n",
    "k_means2.fit(threshold_df)"
   ]
  },
  {
   "cell_type": "markdown",
   "metadata": {},
   "source": [
    "**Save the clusters to <code style=\"color:steelblue\">threshold_df</code>.**"
   ]
  },
  {
   "cell_type": "code",
   "execution_count": 57,
   "metadata": {},
   "outputs": [
    {
     "data": {
      "text/html": [
       "<div>\n",
       "<style>\n",
       "    .dataframe thead tr:only-child th {\n",
       "        text-align: right;\n",
       "    }\n",
       "\n",
       "    .dataframe thead th {\n",
       "        text-align: left;\n",
       "    }\n",
       "\n",
       "    .dataframe tbody tr th {\n",
       "        vertical-align: top;\n",
       "    }\n",
       "</style>\n",
       "<table border=\"1\" class=\"dataframe\">\n",
       "  <thead>\n",
       "    <tr style=\"text-align: right;\">\n",
       "      <th></th>\n",
       "      <th>CustomerID</th>\n",
       "      <th>total_transactions</th>\n",
       "      <th>total_unique_products</th>\n",
       "      <th>total_products</th>\n",
       "      <th>total_sales</th>\n",
       "      <th>avg_product_value</th>\n",
       "      <th>avg_cart_value</th>\n",
       "      <th>min_cart_value</th>\n",
       "      <th>max_cart_value</th>\n",
       "      <th>22961</th>\n",
       "      <th>...</th>\n",
       "      <th>22629</th>\n",
       "      <th>22328</th>\n",
       "      <th>21731</th>\n",
       "      <th>22556</th>\n",
       "      <th>22554</th>\n",
       "      <th>22423</th>\n",
       "      <th>22326</th>\n",
       "      <th>POST</th>\n",
       "      <th>cluster</th>\n",
       "      <th>clusters</th>\n",
       "    </tr>\n",
       "  </thead>\n",
       "  <tbody>\n",
       "    <tr>\n",
       "      <th>0</th>\n",
       "      <td>12347</td>\n",
       "      <td>7</td>\n",
       "      <td>103</td>\n",
       "      <td>182</td>\n",
       "      <td>4310.00</td>\n",
       "      <td>23.681319</td>\n",
       "      <td>615.714286</td>\n",
       "      <td>224.82</td>\n",
       "      <td>1294.32</td>\n",
       "      <td>0</td>\n",
       "      <td>...</td>\n",
       "      <td>0</td>\n",
       "      <td>0</td>\n",
       "      <td>5</td>\n",
       "      <td>0</td>\n",
       "      <td>0</td>\n",
       "      <td>4</td>\n",
       "      <td>0</td>\n",
       "      <td>0</td>\n",
       "      <td>0</td>\n",
       "      <td>0</td>\n",
       "    </tr>\n",
       "    <tr>\n",
       "      <th>1</th>\n",
       "      <td>12348</td>\n",
       "      <td>4</td>\n",
       "      <td>22</td>\n",
       "      <td>31</td>\n",
       "      <td>1797.24</td>\n",
       "      <td>57.975484</td>\n",
       "      <td>449.310000</td>\n",
       "      <td>227.44</td>\n",
       "      <td>892.80</td>\n",
       "      <td>0</td>\n",
       "      <td>...</td>\n",
       "      <td>0</td>\n",
       "      <td>0</td>\n",
       "      <td>0</td>\n",
       "      <td>0</td>\n",
       "      <td>0</td>\n",
       "      <td>0</td>\n",
       "      <td>0</td>\n",
       "      <td>4</td>\n",
       "      <td>0</td>\n",
       "      <td>0</td>\n",
       "    </tr>\n",
       "    <tr>\n",
       "      <th>2</th>\n",
       "      <td>12349</td>\n",
       "      <td>1</td>\n",
       "      <td>73</td>\n",
       "      <td>73</td>\n",
       "      <td>1757.55</td>\n",
       "      <td>24.076027</td>\n",
       "      <td>1757.550000</td>\n",
       "      <td>1757.55</td>\n",
       "      <td>1757.55</td>\n",
       "      <td>0</td>\n",
       "      <td>...</td>\n",
       "      <td>0</td>\n",
       "      <td>0</td>\n",
       "      <td>0</td>\n",
       "      <td>1</td>\n",
       "      <td>1</td>\n",
       "      <td>1</td>\n",
       "      <td>1</td>\n",
       "      <td>1</td>\n",
       "      <td>0</td>\n",
       "      <td>0</td>\n",
       "    </tr>\n",
       "    <tr>\n",
       "      <th>3</th>\n",
       "      <td>12350</td>\n",
       "      <td>1</td>\n",
       "      <td>17</td>\n",
       "      <td>17</td>\n",
       "      <td>334.40</td>\n",
       "      <td>19.670588</td>\n",
       "      <td>334.400000</td>\n",
       "      <td>334.40</td>\n",
       "      <td>334.40</td>\n",
       "      <td>0</td>\n",
       "      <td>...</td>\n",
       "      <td>0</td>\n",
       "      <td>0</td>\n",
       "      <td>0</td>\n",
       "      <td>0</td>\n",
       "      <td>0</td>\n",
       "      <td>0</td>\n",
       "      <td>0</td>\n",
       "      <td>1</td>\n",
       "      <td>0</td>\n",
       "      <td>0</td>\n",
       "    </tr>\n",
       "    <tr>\n",
       "      <th>4</th>\n",
       "      <td>12352</td>\n",
       "      <td>8</td>\n",
       "      <td>59</td>\n",
       "      <td>85</td>\n",
       "      <td>2506.04</td>\n",
       "      <td>29.482824</td>\n",
       "      <td>313.255000</td>\n",
       "      <td>120.33</td>\n",
       "      <td>840.30</td>\n",
       "      <td>0</td>\n",
       "      <td>...</td>\n",
       "      <td>0</td>\n",
       "      <td>0</td>\n",
       "      <td>1</td>\n",
       "      <td>0</td>\n",
       "      <td>0</td>\n",
       "      <td>2</td>\n",
       "      <td>0</td>\n",
       "      <td>5</td>\n",
       "      <td>0</td>\n",
       "      <td>0</td>\n",
       "    </tr>\n",
       "  </tbody>\n",
       "</table>\n",
       "<p>5 rows × 31 columns</p>\n",
       "</div>"
      ],
      "text/plain": [
       "   CustomerID  total_transactions  total_unique_products  total_products  \\\n",
       "0       12347                   7                    103             182   \n",
       "1       12348                   4                     22              31   \n",
       "2       12349                   1                     73              73   \n",
       "3       12350                   1                     17              17   \n",
       "4       12352                   8                     59              85   \n",
       "\n",
       "   total_sales  avg_product_value  avg_cart_value  min_cart_value  \\\n",
       "0      4310.00          23.681319      615.714286          224.82   \n",
       "1      1797.24          57.975484      449.310000          227.44   \n",
       "2      1757.55          24.076027     1757.550000         1757.55   \n",
       "3       334.40          19.670588      334.400000          334.40   \n",
       "4      2506.04          29.482824      313.255000          120.33   \n",
       "\n",
       "   max_cart_value  22961    ...     22629  22328  21731  22556  22554  22423  \\\n",
       "0         1294.32      0    ...         0      0      5      0      0      4   \n",
       "1          892.80      0    ...         0      0      0      0      0      0   \n",
       "2         1757.55      0    ...         0      0      0      1      1      1   \n",
       "3          334.40      0    ...         0      0      0      0      0      0   \n",
       "4          840.30      0    ...         0      0      1      0      0      2   \n",
       "\n",
       "   22326  POST  cluster  clusters  \n",
       "0      0     0        0         0  \n",
       "1      0     4        0         0  \n",
       "2      1     1        0         0  \n",
       "3      0     1        0         0  \n",
       "4      0     5        0         0  \n",
       "\n",
       "[5 rows x 31 columns]"
      ]
     },
     "execution_count": 57,
     "metadata": {},
     "output_type": "execute_result"
    }
   ],
   "source": [
    "# Save clusters to threshold_df\n",
    "threshold_df['clusters'] = k_means2.predict(threshold_df)\n",
    "\n",
    "# Display first 5 rows of threshold_df\n",
    "threshold_df.head()"
   ]
  },
  {
   "cell_type": "markdown",
   "metadata": {},
   "source": [
    "**Visualizing the scatterplot and color the points by cluster to compare between our different ABT clusterings**\n",
    "* Using the same 2 features as in the scatterplot above to visually contrast the plots.\n",
    "* Using the same <code style=\"color:steelblue\">hue=</code> argument to color by cluster."
   ]
  },
  {
   "cell_type": "code",
   "execution_count": 58,
   "metadata": {},
   "outputs": [
    {
     "data": {
      "text/plain": [
       "<seaborn.axisgrid.FacetGrid at 0x1a23af9860>"
      ]
     },
     "execution_count": 58,
     "metadata": {},
     "output_type": "execute_result"
    },
    {
     "data": {
      "image/png": "[encoded data removed]",
      "text/plain": [
       "<matplotlib.figure.Figure at 0x1a23b07908>"
      ]
     },
     "metadata": {},
     "output_type": "display_data"
    }
   ],
   "source": [
    "# Scatterplot, colored by cluster\n",
    "sns.lmplot(x='avg_cart_value',y='total_sales', hue='clusters', data=threshold_df, fit_reg=False)"
   ]
  },
  {
   "cell_type": "markdown",
   "metadata": {},
   "source": [
    "# 4. PCA DF\n",
    "\n",
    "Last set of features we'll consider is our **\"PCA DF\"**. \n",
    "* It includes the purchase pattern features from our analytical base table.\n",
    "* It includes the first 200 principal component features from the item data.\n"
   ]
  },
  {
   "cell_type": "code",
   "execution_count": 59,
   "metadata": {},
   "outputs": [
    {
     "data": {
      "text/plain": [
       "Pipeline(memory=None,\n",
       "     steps=[('standardscaler', StandardScaler(copy=True, with_mean=True, with_std=True)), ('kmeans', KMeans(algorithm='auto', copy_x=True, init='k-means++', max_iter=300,\n",
       "    n_clusters=3, n_init=10, n_jobs=1, precompute_distances='auto',\n",
       "    random_state=None, tol=0.0001, verbose=0))])"
      ]
     },
     "execution_count": 59,
     "metadata": {},
     "output_type": "execute_result"
    }
   ],
   "source": [
    "# K-Means model pipeline\n",
    "k_means3 = make_pipeline(StandardScaler(), KMeans(n_clusters=3))\n",
    "k_means3.fit(pca_df)"
   ]
  },
  {
   "cell_type": "markdown",
   "metadata": {},
   "source": [
    "**Save the clusters to <code style=\"color:steelblue\">pca_df</code>.**"
   ]
  },
  {
   "cell_type": "code",
   "execution_count": 60,
   "metadata": {},
   "outputs": [
    {
     "data": {
      "text/html": [
       "<div>\n",
       "<style>\n",
       "    .dataframe thead tr:only-child th {\n",
       "        text-align: right;\n",
       "    }\n",
       "\n",
       "    .dataframe thead th {\n",
       "        text-align: left;\n",
       "    }\n",
       "\n",
       "    .dataframe tbody tr th {\n",
       "        vertical-align: top;\n",
       "    }\n",
       "</style>\n",
       "<table border=\"1\" class=\"dataframe\">\n",
       "  <thead>\n",
       "    <tr style=\"text-align: right;\">\n",
       "      <th></th>\n",
       "      <th>CustomerID</th>\n",
       "      <th>total_transactions</th>\n",
       "      <th>total_unique_products</th>\n",
       "      <th>total_products</th>\n",
       "      <th>total_sales</th>\n",
       "      <th>avg_product_value</th>\n",
       "      <th>avg_cart_value</th>\n",
       "      <th>min_cart_value</th>\n",
       "      <th>max_cart_value</th>\n",
       "      <th>PC27</th>\n",
       "      <th>...</th>\n",
       "      <th>PC92</th>\n",
       "      <th>PC115</th>\n",
       "      <th>PC153</th>\n",
       "      <th>PC21</th>\n",
       "      <th>PC154</th>\n",
       "      <th>PC181</th>\n",
       "      <th>PC79</th>\n",
       "      <th>PC90</th>\n",
       "      <th>PC83</th>\n",
       "      <th>clusters</th>\n",
       "    </tr>\n",
       "  </thead>\n",
       "  <tbody>\n",
       "    <tr>\n",
       "      <th>0</th>\n",
       "      <td>12347</td>\n",
       "      <td>7</td>\n",
       "      <td>103</td>\n",
       "      <td>182</td>\n",
       "      <td>4310.00</td>\n",
       "      <td>23.681319</td>\n",
       "      <td>615.714286</td>\n",
       "      <td>224.82</td>\n",
       "      <td>1294.32</td>\n",
       "      <td>5.876140</td>\n",
       "      <td>...</td>\n",
       "      <td>-0.036518</td>\n",
       "      <td>0.304538</td>\n",
       "      <td>0.066348</td>\n",
       "      <td>0.091724</td>\n",
       "      <td>0.081520</td>\n",
       "      <td>0.031085</td>\n",
       "      <td>-0.026535</td>\n",
       "      <td>0.348184</td>\n",
       "      <td>-0.175728</td>\n",
       "      <td>0</td>\n",
       "    </tr>\n",
       "    <tr>\n",
       "      <th>1</th>\n",
       "      <td>12348</td>\n",
       "      <td>4</td>\n",
       "      <td>22</td>\n",
       "      <td>31</td>\n",
       "      <td>1797.24</td>\n",
       "      <td>57.975484</td>\n",
       "      <td>449.310000</td>\n",
       "      <td>227.44</td>\n",
       "      <td>892.80</td>\n",
       "      <td>-4.219837</td>\n",
       "      <td>...</td>\n",
       "      <td>-4.765365</td>\n",
       "      <td>0.181128</td>\n",
       "      <td>-0.060220</td>\n",
       "      <td>2.299782</td>\n",
       "      <td>0.318007</td>\n",
       "      <td>-4.587247</td>\n",
       "      <td>7.146414</td>\n",
       "      <td>-2.880113</td>\n",
       "      <td>-1.147965</td>\n",
       "      <td>1</td>\n",
       "    </tr>\n",
       "    <tr>\n",
       "      <th>2</th>\n",
       "      <td>12349</td>\n",
       "      <td>1</td>\n",
       "      <td>73</td>\n",
       "      <td>73</td>\n",
       "      <td>1757.55</td>\n",
       "      <td>24.076027</td>\n",
       "      <td>1757.550000</td>\n",
       "      <td>1757.55</td>\n",
       "      <td>1757.55</td>\n",
       "      <td>-1.260846</td>\n",
       "      <td>...</td>\n",
       "      <td>3.032593</td>\n",
       "      <td>0.626667</td>\n",
       "      <td>-4.306286</td>\n",
       "      <td>-0.254076</td>\n",
       "      <td>-0.276820</td>\n",
       "      <td>-2.182513</td>\n",
       "      <td>2.463688</td>\n",
       "      <td>-0.178603</td>\n",
       "      <td>-0.136216</td>\n",
       "      <td>0</td>\n",
       "    </tr>\n",
       "    <tr>\n",
       "      <th>3</th>\n",
       "      <td>12350</td>\n",
       "      <td>1</td>\n",
       "      <td>17</td>\n",
       "      <td>17</td>\n",
       "      <td>334.40</td>\n",
       "      <td>19.670588</td>\n",
       "      <td>334.400000</td>\n",
       "      <td>334.40</td>\n",
       "      <td>334.40</td>\n",
       "      <td>-4.929320</td>\n",
       "      <td>...</td>\n",
       "      <td>0.850550</td>\n",
       "      <td>0.382694</td>\n",
       "      <td>-1.900388</td>\n",
       "      <td>0.025241</td>\n",
       "      <td>2.102687</td>\n",
       "      <td>0.208891</td>\n",
       "      <td>-1.107115</td>\n",
       "      <td>-1.130929</td>\n",
       "      <td>3.428857</td>\n",
       "      <td>1</td>\n",
       "    </tr>\n",
       "    <tr>\n",
       "      <th>4</th>\n",
       "      <td>12352</td>\n",
       "      <td>8</td>\n",
       "      <td>59</td>\n",
       "      <td>85</td>\n",
       "      <td>2506.04</td>\n",
       "      <td>29.482824</td>\n",
       "      <td>313.255000</td>\n",
       "      <td>120.33</td>\n",
       "      <td>840.30</td>\n",
       "      <td>-2.053114</td>\n",
       "      <td>...</td>\n",
       "      <td>-0.335511</td>\n",
       "      <td>1.161181</td>\n",
       "      <td>-0.013836</td>\n",
       "      <td>1.580158</td>\n",
       "      <td>1.933953</td>\n",
       "      <td>-0.662787</td>\n",
       "      <td>1.746364</td>\n",
       "      <td>-0.679615</td>\n",
       "      <td>-0.423264</td>\n",
       "      <td>1</td>\n",
       "    </tr>\n",
       "  </tbody>\n",
       "</table>\n",
       "<p>5 rows × 210 columns</p>\n",
       "</div>"
      ],
      "text/plain": [
       "   CustomerID  total_transactions  total_unique_products  total_products  \\\n",
       "0       12347                   7                    103             182   \n",
       "1       12348                   4                     22              31   \n",
       "2       12349                   1                     73              73   \n",
       "3       12350                   1                     17              17   \n",
       "4       12352                   8                     59              85   \n",
       "\n",
       "   total_sales  avg_product_value  avg_cart_value  min_cart_value  \\\n",
       "0      4310.00          23.681319      615.714286          224.82   \n",
       "1      1797.24          57.975484      449.310000          227.44   \n",
       "2      1757.55          24.076027     1757.550000         1757.55   \n",
       "3       334.40          19.670588      334.400000          334.40   \n",
       "4      2506.04          29.482824      313.255000          120.33   \n",
       "\n",
       "   max_cart_value      PC27    ...         PC92     PC115     PC153      PC21  \\\n",
       "0         1294.32  5.876140    ...    -0.036518  0.304538  0.066348  0.091724   \n",
       "1          892.80 -4.219837    ...    -4.765365  0.181128 -0.060220  2.299782   \n",
       "2         1757.55 -1.260846    ...     3.032593  0.626667 -4.306286 -0.254076   \n",
       "3          334.40 -4.929320    ...     0.850550  0.382694 -1.900388  0.025241   \n",
       "4          840.30 -2.053114    ...    -0.335511  1.161181 -0.013836  1.580158   \n",
       "\n",
       "      PC154     PC181      PC79      PC90      PC83  clusters  \n",
       "0  0.081520  0.031085 -0.026535  0.348184 -0.175728         0  \n",
       "1  0.318007 -4.587247  7.146414 -2.880113 -1.147965         1  \n",
       "2 -0.276820 -2.182513  2.463688 -0.178603 -0.136216         0  \n",
       "3  2.102687  0.208891 -1.107115 -1.130929  3.428857         1  \n",
       "4  1.933953 -0.662787  1.746364 -0.679615 -0.423264         1  \n",
       "\n",
       "[5 rows x 210 columns]"
      ]
     },
     "execution_count": 60,
     "metadata": {},
     "output_type": "execute_result"
    }
   ],
   "source": [
    "# Save clusters to pca_df\n",
    "pca_df['clusters'] = k_means3.predict(pca_df)\n",
    "# Display first 5 rows of pca_df\n",
    "pca_df.head()"
   ]
  },
  {
   "cell_type": "markdown",
   "metadata": {},
   "source": [
    "**Visualzing again these clusters and coloring points by cluster.**\n",
    "* Using the same 2 features as in the scatterplot above so that you can visually contrast the plots.\n",
    "* Using the <code style=\"color:steelblue\">hue=</code> argument to color by cluster."
   ]
  },
  {
   "cell_type": "code",
   "execution_count": 61,
   "metadata": {},
   "outputs": [
    {
     "data": {
      "text/plain": [
       "<seaborn.axisgrid.FacetGrid at 0x1a1e192a90>"
      ]
     },
     "execution_count": 61,
     "metadata": {},
     "output_type": "execute_result"
    },
    {
     "data": {
      "image/png": "[encoded data removed]",
      "text/plain": [
       "<matplotlib.figure.Figure at 0x1a1e192e48>"
      ]
     },
     "metadata": {},
     "output_type": "display_data"
    }
   ],
   "source": [
    "# Scatterplot, colored by cluster\n",
    "sns.lmplot(x='avg_cart_value',y='total_sales', hue='clusters', data=pca_df, fit_reg=False)"
   ]
  },
  {
   "cell_type": "markdown",
   "metadata": {},
   "source": [
    "# 5. Model comparison\n",
    "\n",
    "As we see, all our clustering models are different.\n",
    "\n",
    "Each of those 3 dataframes have the same indices:"
   ]
  },
  {
   "cell_type": "code",
   "execution_count": 62,
   "metadata": {},
   "outputs": [
    {
     "name": "stdout",
     "output_type": "stream",
     "text": [
      "True\n",
      "True\n"
     ]
    }
   ],
   "source": [
    "# Check all indices are identical\n",
    "print( all( base_df.index == threshold_df.index ) )\n",
    "print( all( base_df.index == pca_df.index) )"
   ]
  },
  {
   "cell_type": "markdown",
   "metadata": {},
   "source": [
    "**Using the adjusted Rand index between base_df.cluster and threshold_df.cluster to compare clusterings**\n",
    "\n",
    "**Note:** The adjusted Rand index is **symmetric**,it is not significant the order we pass our clusters."
   ]
  },
  {
   "cell_type": "code",
   "execution_count": 69,
   "metadata": {},
   "outputs": [
    {
     "data": {
      "text/plain": [
       "0.59134501481484181"
      ]
     },
     "execution_count": 69,
     "metadata": {},
     "output_type": "execute_result"
    }
   ],
   "source": [
    "# Adjusted Rand index\n",
    "from sklearn.metrics import adjusted_rand_score\n",
    "# Similary between base_df.cluster and threshold_df.cluster\n",
    "adjusted_rand_score(base_df.clusters, threshold_df.clusters)"
   ]
  },
  {
   "cell_type": "code",
   "execution_count": 72,
   "metadata": {},
   "outputs": [
    {
     "data": {
      "text/plain": [
       "0.52680817399985014"
      ]
     },
     "execution_count": 72,
     "metadata": {},
     "output_type": "execute_result"
    }
   ],
   "source": [
    "# Similary between threshold_df.cluster and base_df.cluster\n",
    "adjusted_rand_score(threshold_df.clusters, pca_df.clusters)"
   ]
  },
  {
   "cell_type": "code",
   "execution_count": 73,
   "metadata": {},
   "outputs": [
    {
     "data": {
      "text/plain": [
       "0.7016418093328558"
      ]
     },
     "execution_count": 73,
     "metadata": {},
     "output_type": "execute_result"
    }
   ],
   "source": [
    "# Similary between base_df.cluster and pca_df.cluster\n",
    "adjusted_rand_score(base_df.clusters, pca_df.clusters)\n"
   ]
  },
  {
   "cell_type": "markdown",
   "metadata": {},
   "source": [
    "* Which clusters are more like the ones created from the the base dataframe?"
   ]
  },
  {
   "cell_type": "markdown",
   "metadata": {
    "collapsed": true
   },
   "source": [
    "Essential steps\n",
    "* Brign together the different customer-level ABT's.\n",
    "* Use inuitition behind the K-Means algorithm.\n",
    "* Apply the K-Means algorithm to different constructed ABT's from the same dataset.\n",
    "* Compare the consensus (or lack thereof) of the clusters created."
   ]
  },
  {
   "cell_type": "code",
   "execution_count": null,
   "metadata": {
    "collapsed": true
   },
   "outputs": [],
   "source": []
  }
 ],
 "metadata": {
  "kernelspec": {
   "display_name": "Python 3",
   "language": "python",
   "name": "python3"
  },
  "language_info": {
   "codemirror_mode": {
    "name": "ipython",
    "version": 3
   },
   "file_extension": ".py",
   "mimetype": "text/x-python",
   "name": "python",
   "nbconvert_exporter": "python",
   "pygments_lexer": "ipython3",
   "version": "3.6.4"
  }
 },
 "nbformat": 4,
 "nbformat_minor": 1
}
