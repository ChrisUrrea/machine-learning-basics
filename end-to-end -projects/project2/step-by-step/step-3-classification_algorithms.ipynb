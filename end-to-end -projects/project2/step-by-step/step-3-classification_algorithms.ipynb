{
 "cells": [
  {
   "cell_type": "markdown",
   "metadata": {},
   "source": [
    "<h1 style=\"font-size:42px; text-align:center; margin-bottom:30px;\"><span style=\"color:SteelBlue\">Step 3:</span> Classification Algorithms</h1>\n",
    "<hr>\n",
    "\n",
    "\n",
    "We'll experiment with 4 algorithms to our constructed ABT:\n",
    "1. $L_1$-regularized logistic regression\n",
    "2. $L_2$-regularized logistic regression\n",
    "3. Random forests\n",
    "4. Boosted trees"
   ]
  },
  {
   "cell_type": "code",
   "execution_count": 1,
   "metadata": {},
   "outputs": [],
   "source": [
    "# import libraries we need\n",
    "import numpy as np\n",
    "import pandas as pd\n",
    "import matplotlib.pyplot as plt\n",
    "%matplotlib inline\n",
    "import seaborn as sns"
   ]
  },
  {
   "cell_type": "markdown",
   "metadata": {},
   "source": [
    "# 1. Binary classification\n",
    "\n",
    "Simply, we are aiming for the right classification of 2 classes (employed or left).\n",
    "\n",
    "let's take another look at the **target variable**"
   ]
  },
  {
   "cell_type": "code",
   "execution_count": 7,
   "metadata": {
    "scrolled": true
   },
   "outputs": [
    {
     "name": "stdout",
     "output_type": "stream",
     "text": [
      "['Left' 'Employed']\n"
     ]
    },
    {
     "data": {
      "text/plain": [
       "0        Left\n",
       "1    Employed\n",
       "2    Employed\n",
       "3    Employed\n",
       "4    Employed\n",
       "Name: status, dtype: object"
      ]
     },
     "execution_count": 7,
     "metadata": {},
     "output_type": "execute_result"
    }
   ],
   "source": [
    "# Print unique classes for 'status' and the first 5 observations for 'status' in the raw dataset\n",
    "raw_data = pd.read_csv('project_files/employee_data.csv')\n",
    "print(raw_data['status'].unique())\n",
    "raw_data.status.head()"
   ]
  },
  {
   "cell_type": "markdown",
   "metadata": {},
   "source": [
    "In our ABT we converted the target <code style=\"color:crimson\">'status'</code> variable from <code style=\"color:crimson\">'Left' / 'Employed'</code> into <code style=\"color:crimson\">1 / 0</code>."
   ]
  },
  {
   "cell_type": "code",
   "execution_count": 8,
   "metadata": {},
   "outputs": [
    {
     "name": "stdout",
     "output_type": "stream",
     "text": [
      "[1 0]\n"
     ]
    },
    {
     "data": {
      "text/plain": [
       "0    1\n",
       "1    0\n",
       "2    0\n",
       "3    0\n",
       "4    0\n",
       "Name: status, dtype: int64"
      ]
     },
     "execution_count": 8,
     "metadata": {},
     "output_type": "execute_result"
    }
   ],
   "source": [
    "# Print unique classes for 'status' and the first 5 observations for 'status' in the analytical base table\n",
    "data = pd.read_csv('project_files/analytical_base_table.csv')\n",
    "print(data['status'].unique())\n",
    "data.status.head()"
   ]
  },
  {
   "cell_type": "markdown",
   "metadata": {},
   "source": [
    " By convention, the positive class is simply the primary class you're trying to identify\n",
    " We can check to see that our positive class (1) is 'Left' and our negative class (0) is 'Employed'\n",
    " \n",
    " **Note: We actually want the output to be class probabilities, instead of just a single class prediction. It is much more informative to express some level of confidence in our prediction, instead of only outputing the predicted class. **"
   ]
  },
  {
   "cell_type": "markdown",
   "metadata": {},
   "source": [
    "# 2 - Noisy conditional\n",
    "\n",
    "A model is only useful if it can accurately approximate the \"true state of the world\" (i.e. the \"true underlying relationship\" between input features and target variables).\n",
    "\n",
    "Lets practice some **noisy conditionals**:\n",
    "\n",
    "We'll create a synthetic dataset for which we already know the \"true underlying relationship.\"\n",
    "\n",
    "- We create a single input feature, x.\n",
    "- Then, we generate values for the target variable, y, based on a predetermined mapping function.\n",
    "- Next, we add randomly generated noise to that dataset.\n",
    "- Then, We will experiment with different algorithms on our synthetic dataset- to see how they close they come.\n",
    "- Finally, we compare how well models of different complexities can separate the signal from the randomly generated noise.\n",
    "\n",
    "Our **predetermined function** for classification will be:\n",
    "\n",
    "- If x > 0.5, then y=1.\n",
    "\n",
    "- If x ≤ 0.5, then y=0.\n",
    "\n",
    "Adding epsilon deviations as random noise, to turn it into a noisy conditional:\n",
    "\n",
    "- If x+ϵ > 0.5, then y=1.\n",
    "\n",
    "- If x+ϵ ≤ 0.5, then y=0.\n",
    "\n"
   ]
  },
  {
   "cell_type": "code",
   "execution_count": 10,
   "metadata": {},
   "outputs": [],
   "source": [
    "# Creating the input feature X\n",
    "x = np.linspace(0, 1, 100)\n",
    "# Creating the noise\n",
    "np.random.seed(0)\n",
    "noise = np.random.uniform(-0.2, 0.2, 100)\n",
    "# Niftly creating our target variable\n",
    "y = ((x + noise) > 0.5).astype(int)"
   ]
  },
  {
   "cell_type": "markdown",
   "metadata": {},
   "source": [
    "* Scikit-Learn algorithms expect input features with 2 axes, our x is a one dimensioanl array. \n",
    "* **reshaping** <code style=\"color:steelblue\">x</code> to make sure it has 2 axes."
   ]
  },
  {
   "cell_type": "code",
   "execution_count": 55,
   "metadata": {},
   "outputs": [],
   "source": [
    "# Reshape x into X\n",
    "X = x.reshape(100,1)"
   ]
  },
  {
   "cell_type": "markdown",
   "metadata": {},
   "source": [
    "Visualizing our synthetic (or artificial - sounds nicer?) dataset"
   ]
  },
  {
   "cell_type": "code",
   "execution_count": 56,
   "metadata": {},
   "outputs": [
    {
     "data": {
      "text/plain": [
       "<matplotlib.collections.PathCollection at 0x1a1bee9208>"
      ]
     },
     "execution_count": 56,
     "metadata": {},
     "output_type": "execute_result"
    },
    {
     "data": {
      "image/png": "[encoded data removed]",
      "text/plain": [
       "<matplotlib.figure.Figure at 0x1a1bdbecf8>"
      ]
     },
     "metadata": {},
     "output_type": "display_data"
    }
   ],
   "source": [
    "# Plot scatterplot of synthetic dataset\n",
    "plt.scatter(X, y)"
   ]
  },
  {
   "cell_type": "markdown",
   "metadata": {},
   "source": [
    "From this we can see that noise around 0.5 has . asignificant effect on our classification model.\n",
    "Thus, taking real-world noise into account, we want our classification model:\n",
    "- If x is closer to 0.5, we want less confidence in the prediction.\n",
    "- If x is farther from 0.5, we want more confidence in the prediction."
   ]
  },
  {
   "cell_type": "markdown",
   "metadata": {},
   "source": [
    "# 3. Logistic regression\n",
    "\n",
    "The classification analog of linear regression."
   ]
  },
  {
   "cell_type": "code",
   "execution_count": 57,
   "metadata": {},
   "outputs": [
    {
     "data": {
      "text/plain": [
       "LogisticRegression(C=1.0, class_weight=None, dual=False, fit_intercept=True,\n",
       "          intercept_scaling=1, max_iter=100, multi_class='ovr', n_jobs=1,\n",
       "          penalty='l2', random_state=None, solver='liblinear', tol=0.0001,\n",
       "          verbose=0, warm_start=False)"
      ]
     },
     "execution_count": 57,
     "metadata": {},
     "output_type": "execute_result"
    }
   ],
   "source": [
    "# Logistic regression\n",
    "from sklearn.linear_model import LogisticRegression\n",
    "logistic = LogisticRegression()\n",
    "logistic.fit(X, y)"
   ]
  },
  {
   "cell_type": "markdown",
   "metadata": {},
   "source": [
    "<code style=\"color:steelblue\">.predict()</code> function for classification model's is 0's and 1's."
   ]
  },
  {
   "cell_type": "code",
   "execution_count": 58,
   "metadata": {},
   "outputs": [
    {
     "data": {
      "text/plain": [
       "array([0, 0, 0, 0, 0, 0, 0, 0, 0, 0, 0, 0, 0, 0, 0, 0, 0, 0, 0, 0, 0, 0, 0,\n",
       "       0, 0, 0, 0, 0, 0, 0, 0, 0, 0, 0, 0, 0, 0, 0, 0, 0, 0, 0, 0, 0, 0, 0,\n",
       "       0, 0, 0, 0, 0, 0, 0, 0, 1, 1, 1, 1, 1, 1, 1, 1, 1, 1, 1, 1, 1, 1, 1,\n",
       "       1, 1, 1, 1, 1, 1, 1, 1, 1, 1, 1, 1, 1, 1, 1, 1, 1, 1, 1, 1, 1, 1, 1,\n",
       "       1, 1, 1, 1, 1, 1, 1, 1])"
      ]
     },
     "execution_count": 58,
     "metadata": {},
     "output_type": "execute_result"
    }
   ],
   "source": [
    "# predict()\n",
    "logistic.predict(X)\n"
   ]
  },
  {
   "cell_type": "markdown",
   "metadata": {},
   "source": [
    "For classification problems, to get probabilities, we use <code style=\"color:steelblue\">.predict_proba()</code> instead of regular ol' <code style=\"color:steelblue\">predict()</code>"
   ]
  },
  {
   "cell_type": "code",
   "execution_count": 104,
   "metadata": {},
   "outputs": [],
   "source": [
    "# predict_proba() of first 10 observations\n",
    "pred = logistic.predict_proba(X)[:10]"
   ]
  },
  {
   "cell_type": "markdown",
   "metadata": {},
   "source": [
    "Each row has firstly the negative probability, and secondly the positive probability"
   ]
  },
  {
   "cell_type": "code",
   "execution_count": 105,
   "metadata": {},
   "outputs": [
    {
     "data": {
      "text/plain": [
       "array([ 0.88533224,  0.11466776])"
      ]
     },
     "execution_count": 105,
     "metadata": {},
     "output_type": "execute_result"
    }
   ],
   "source": [
    "# Class probabilities for first observation\n",
    "pred[0]"
   ]
  },
  {
   "cell_type": "markdown",
   "metadata": {},
   "source": [
    "Retrieving the probability of **just the positive class** (for the first observation)"
   ]
  },
  {
   "cell_type": "code",
   "execution_count": 106,
   "metadata": {},
   "outputs": [
    {
     "data": {
      "text/plain": [
       "0.11466776474220844"
      ]
     },
     "execution_count": 106,
     "metadata": {},
     "output_type": "execute_result"
    }
   ],
   "source": [
    "# Positive class probability for first observation\n",
    "pred[0][1]"
   ]
  },
  {
   "cell_type": "markdown",
   "metadata": {},
   "source": [
    "After using .predict_proba() for **binary** classification, good to use a simple list comprehension to extract a list of only the predictions for the positive class"
   ]
  },
  {
   "cell_type": "code",
   "execution_count": 107,
   "metadata": {},
   "outputs": [
    {
     "data": {
      "text/plain": [
       "[0.11466776474220844,\n",
       " 0.1186047048215098,\n",
       " 0.12265808672793302,\n",
       " 0.12683006167259706,\n",
       " 0.13112273035269173,\n",
       " 0.13553813543638762,\n",
       " 0.14007825373198912,\n",
       " 0.14474498805343122,\n",
       " 0.14954015879723676,\n",
       " 0.15446549524924461]"
      ]
     },
     "execution_count": 107,
     "metadata": {},
     "output_type": "execute_result"
    }
   ],
   "source": [
    "# Just get the second value for each prediction\n",
    "pred = [p[1] for p in pred]\n",
    "pred"
   ]
  },
  {
   "cell_type": "markdown",
   "metadata": {},
   "source": [
    "**Recap:**\n",
    "Fitting and plotting the logistic regression model."
   ]
  },
  {
   "cell_type": "code",
   "execution_count": 141,
   "metadata": {},
   "outputs": [
    {
     "data": {
      "image/png": "[encoded data removed]",
      "text/plain": [
       "<matplotlib.figure.Figure at 0x1a1bae6128>"
      ]
     },
     "metadata": {},
     "output_type": "display_data"
    }
   ],
   "source": [
    "# Logistic regression\n",
    "logistic = LogisticRegression()\n",
    "logistic.fit(X, y)\n",
    "# Predict probabilities\n",
    "pred = logistic.predict_proba(X)\n",
    "\n",
    "# Retrieve the second value (positive class) for each prediction\n",
    "pred = [p[1] for p in pred]\n",
    "\n",
    "# Plot dataset and predictions\n",
    "plt.scatter(X, y)\n",
    "plt.plot(X, pred)\n",
    "plt.show()"
   ]
  },
  {
   "cell_type": "markdown",
   "metadata": {},
   "source": [
    "Still not getting very high confidence for x < 0.3 and x > 0.7\n",
    "It kinda looks like the model is being \"too conservative.\""
   ]
  },
  {
   "cell_type": "markdown",
   "metadata": {},
   "source": [
    "# 4. Regularized logistic regression\n",
    "\n",
    "To prevent overfitting we'll add regularization (that is artificially penalizing model coefficients).\n",
    "- Two types of penalties.\n",
    "    - L1 penalizes the absolute size of model coefficients.\n",
    "    - L2 penalizes the squared size of model coefficients.\n",
    "\n",
    "To not repeat our code, we'll write a fit_and_plot_classifier function:"
   ]
  },
  {
   "cell_type": "code",
   "execution_count": 145,
   "metadata": {},
   "outputs": [],
   "source": [
    "def fit_and_plot_classifier(clf):\n",
    "    # Fit model\n",
    "    clf.fit(X, y)\n",
    "    # Predict and take second value of each prediction\n",
    "    pred = clf.predict_proba(X)\n",
    "    pred = [p[1] for p in pred]\n",
    "    #Plot\n",
    "    plt.scatter(X, y)\n",
    "    plt.scatter(X, pred)\n",
    "    plt.show()\n",
    "    # Return fitted model and predictions\n",
    "    return clf, pred"
   ]
  },
  {
   "cell_type": "markdown",
   "metadata": {},
   "source": [
    "Let's make our default Logistic Regression penalty (C = 1) **weaker** to avoid the over-generalization (\"high bias\") of our default logistic regression.\n",
    "-  C, is the **inverse** of the regularization strength.\n",
    "-  Thus, higher C means a weaker penalty and lower C means a stronger penalty."
   ]
  },
  {
   "cell_type": "code",
   "execution_count": 164,
   "metadata": {
    "scrolled": false
   },
   "outputs": [
    {
     "data": {
      "image/png": "[encoded data removed]",
      "text/plain": [
       "<matplotlib.figure.Figure at 0x1a1ba00f60>"
      ]
     },
     "metadata": {},
     "output_type": "display_data"
    }
   ],
   "source": [
    "# More regularization\n",
    "clf, pred = fit_and_plot_classifier(LogisticRegression(C=4))"
   ]
  },
  {
   "cell_type": "markdown",
   "metadata": {},
   "source": [
    "To basically remove regularization, give a very large <code style=\"color:steelblue\">C</code> way up."
   ]
  },
  {
   "cell_type": "code",
   "execution_count": 147,
   "metadata": {},
   "outputs": [
    {
     "data": {
      "image/png": "[encoded data removed]",
      "text/plain": [
       "<matplotlib.figure.Figure at 0x1a16f342e8>"
      ]
     },
     "metadata": {},
     "output_type": "display_data"
    }
   ],
   "source": [
    "# Basically no regularization\n",
    "clf, pred = fit_and_plot_classifier(LogisticRegression(penalty ='l1', C=1000))"
   ]
  },
  {
   "cell_type": "markdown",
   "metadata": {},
   "source": [
    "The key is that for Logistic Regression, the **penalty**, or regularization is the most significant hyperparameter that you should tune.\n",
    "\n",
    "**Penalty type:**\n",
    "By default, LogisticRegression() uses the L2 penalty.\n",
    "\n",
    "For linear regression, L2 regularization is called Ridge regression.\n",
    "- For logistic regression, we'll simply call it L2-regularized logistic regression.\n",
    "- **penalty = 'l1'** <-- the first character is an 'l'\n",
    "\n",
    "For linear regression, L1 regularization was called Lasso regression.\n",
    "- For logistic regression, we'll simply call it L1-regularized logistic regression.\n",
    "- **penalty = 'l2'** <-- the first character is an 'l'\n",
    "\n",
    "By default, LogisticRegression uses L2 regularization (penalty = '12')"
   ]
  },
  {
   "cell_type": "markdown",
   "metadata": {},
   "source": [
    "# 5. Tree ensemble algorithms\n",
    "\n",
    "Apply our tree ensembles for classification. "
   ]
  },
  {
   "cell_type": "markdown",
   "metadata": {},
   "source": [
    "# Random Forest\n",
    "\n",
    "Random forests train a large number of \"strong\" decision trees on a random subset of both features and observations and combine their predictions through \"bagging\". \n",
    "\n",
    "Two sources of \"randomness\" for random forests:\n",
    "\n",
    "1. Each decision tree is only allowed to choose from a random subset of features to split on.\n",
    "2. Each decision tree is only trained on a random subset of observations (a process called resampling).\n"
   ]
  },
  {
   "cell_type": "code",
   "execution_count": 156,
   "metadata": {},
   "outputs": [],
   "source": [
    "# Import RandomForestClassifier\n",
    "from sklearn.ensemble import RandomForestClassifier"
   ]
  },
  {
   "cell_type": "code",
   "execution_count": 157,
   "metadata": {},
   "outputs": [
    {
     "data": {
      "image/png": "[encoded data removed]",
      "text/plain": [
       "<matplotlib.figure.Figure at 0x1a1c7a43c8>"
      ]
     },
     "metadata": {},
     "output_type": "display_data"
    },
    {
     "name": "stdout",
     "output_type": "stream",
     "text": [
      "\u001b[H\u001b[2J"
     ]
    }
   ],
   "source": [
    "# Random forest classifier\n",
    "forest = RandomForestClassifier(n_estimators = 100)\n",
    "fit_and_plot_classifier(forest)\n",
    "%clear"
   ]
  },
  {
   "cell_type": "markdown",
   "metadata": {},
   "source": [
    "Seems like our random forest is overfitting the dataset.\n",
    "Not surprising, since random forests are extremely complex and this dataset is extremely simple.\n",
    "\n",
    "That said, random forests tend to perform well for real-world classification, in which our dataset is normally complex. \n",
    "\n",
    "**Strong random forest pro's:**\n",
    "\n",
    "- They can be used right out of the box to beat many other models that take up to weeks to develop.\n",
    "- They are the perfect \"swiss-army-knife\" algorithm that you can almost always rely on.\n",
    "- They don't have many complicated parameters to tune."
   ]
  },
  {
   "cell_type": "markdown",
   "metadata": {},
   "source": [
    "# Boosted Trees\n",
    "\n",
    "Boosted trees train a sequence of \"weak\", constrained decision trees and combine their predictions through boosting.\n",
    "\n",
    "1. Each decision tree is allowed a maximum depth, which should be tuned.\n",
    "2. Each decision tree in the sequence tries to correct the prediction errors of the one before it.\n"
   ]
  },
  {
   "cell_type": "code",
   "execution_count": 159,
   "metadata": {
    "collapsed": true
   },
   "outputs": [],
   "source": [
    "# Import GradientBoostingClassifier\n",
    "from sklearn.ensemble import GradientBoostingClassifier"
   ]
  },
  {
   "cell_type": "code",
   "execution_count": 162,
   "metadata": {},
   "outputs": [
    {
     "data": {
      "image/png": "[encoded data removed]",
      "text/plain": [
       "<matplotlib.figure.Figure at 0x1a1797dac8>"
      ]
     },
     "metadata": {},
     "output_type": "display_data"
    },
    {
     "name": "stdout",
     "output_type": "stream",
     "text": [
      "\u001b[H\u001b[2J"
     ]
    }
   ],
   "source": [
    "# Random forest classifier\n",
    "boostedtrees = GradientBoostingClassifier(n_estimators=100)\n",
    "fit_and_plot_classifier(boostedtrees)\n",
    "%clear"
   ]
  },
  {
   "cell_type": "markdown",
   "metadata": {},
   "source": [
    "Again boosted trees algorithim overfits our data, for the same reason as random forest regression.\n",
    "\n",
    "That said, boosted trees tend to have the highest performance ceilings.\n",
    "1. They often beat many other types of models after proper tuning.\n",
    "2. Though it should be noted they are more complicated to tune than random forests."
   ]
  },
  {
   "cell_type": "markdown",
   "metadata": {
    "collapsed": true
   },
   "source": [
    "That was some experimentation with different algorithms and different hyperparameters to see how they fared with our dataset."
   ]
  }
 ],
 "metadata": {
  "anaconda-cloud": {},
  "kernelspec": {
   "display_name": "Python 3",
   "language": "python",
   "name": "python3"
  },
  "language_info": {
   "codemirror_mode": {
    "name": "ipython",
    "version": 3
   },
   "file_extension": ".py",
   "mimetype": "text/x-python",
   "name": "python",
   "nbconvert_exporter": "python",
   "pygments_lexer": "ipython3",
   "version": "3.6.4"
  }
 },
 "nbformat": 4,
 "nbformat_minor": 1
}
