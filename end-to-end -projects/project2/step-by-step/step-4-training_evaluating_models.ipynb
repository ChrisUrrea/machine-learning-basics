{
 "cells": [
  {
   "cell_type": "markdown",
   "metadata": {},
   "source": [
    "<h1 style=\"font-size:42px; text-align:center; margin-bottom:30px;\"><span style=\"color:SteelBlue\">Step 4:</span> Model Training</h1>\n",
    "\n",
    "Essential 3 steps completed steps leading up to training our model: \n",
    "1. Exploratory Analysis\n",
    "2. Data Cleaning\n",
    "3. Feature Engineering\n",
    "\n",
    "\n",
    "The essential modeling and training steps:\n",
    "\n",
    "1. [Split our dataset](#split)\n",
    "2. [Build model pipelines](#pipelines)\n",
    "3. [Declare hyperparameters to tune](#hyperparameters)\n",
    "4. [Fit and tune models with cross-validation](#fit-tune)\n",
    "5. [Evaluate metrics](#evaluate)\n",
    "6. [Area under ROC curve](#auroc)\n",
    "\n",
    "Again, we'll split the dataset, set up pipelines, declare hyperparameters, and tune models using cross-validation. We'll use area under ROC curve as the performance metric for our classification models."
   ]
  },
  {
   "cell_type": "code",
   "execution_count": 120,
   "metadata": {},
   "outputs": [],
   "source": [
    "# import the libraries\n",
    "import numpy as np\n",
    "import pandas as pd\n",
    "import matplotlib.pyplot as plt\n",
    "%matplotlib inline\n",
    "import seaborn as sns\n",
    "# Pickle for saving model files\n",
    "import pickle"
   ]
  },
  {
   "cell_type": "markdown",
   "metadata": {},
   "source": [
    "import the algorithms and all the other good things"
   ]
  },
  {
   "cell_type": "code",
   "execution_count": 36,
   "metadata": {},
   "outputs": [],
   "source": [
    "# Import Logistic Regression\n",
    "from sklearn.linear_model import LogisticRegression\n",
    "# Import RandomForestClassifier and GradientBoostingClassifer\n",
    "from sklearn.ensemble import RandomForestClassifier, GradientBoostingClassifier"
   ]
  },
  {
   "cell_type": "code",
   "execution_count": 37,
   "metadata": {},
   "outputs": [],
   "source": [
    "# Function for splitting training and test set\n",
    "from sklearn.model_selection import train_test_split\n",
    "# Function for creating model pipelines\n",
    "from sklearn.pipeline import make_pipeline\n",
    "# For standardization\n",
    "from sklearn.preprocessing import StandardScaler\n",
    "# Helper for cross-validation\n",
    "from sklearn.model_selection import GridSearchCV"
   ]
  },
  {
   "cell_type": "markdown",
   "metadata": {},
   "source": [
    "Get our analytical base table"
   ]
  },
  {
   "cell_type": "code",
   "execution_count": 38,
   "metadata": {},
   "outputs": [],
   "source": [
    "# Load analytical base table from Module 2\n",
    "abt = pd.read_csv('project_files/analytical_base_table.csv')"
   ]
  },
  {
   "cell_type": "markdown",
   "metadata": {},
   "source": [
    "# 1. Splitting the dataset"
   ]
  },
  {
   "cell_type": "code",
   "execution_count": 39,
   "metadata": {},
   "outputs": [],
   "source": [
    "# y object for target variable\n",
    "y = abt['status']\n",
    "\n",
    "# X object for input features\n",
    "X = abt.drop('status', axis=1)"
   ]
  },
  {
   "cell_type": "markdown",
   "metadata": {},
   "source": [
    "* **Important:** We pass in the argument <code style=\"color:steelblue\">stratify =<span style=\"color:crimson\"> y</code> in order to make sure the target variable's classes are balanced in each subset of data! This is **stratified random sampling**.\n",
    "* Then, print the number of observations in each subset to check that it was done correctly."
   ]
  },
  {
   "cell_type": "code",
   "execution_count": 40,
   "metadata": {},
   "outputs": [
    {
     "name": "stdout",
     "output_type": "stream",
     "text": [
      "11254 2814 11254 2814\n"
     ]
    }
   ],
   "source": [
    "# Split X and y into train and test sets\n",
    "X_train, X_test, y_train, y_test = train_test_split(X, y, test_size=0.2)\n",
    "# Print number of observations in X_train, X_test, y_train, and y_test\n",
    "print(len(X_train), len(X_test), len(y_train), len(y_test))"
   ]
  },
  {
   "cell_type": "markdown",
   "metadata": {},
   "source": [
    "# 2. Build our model pipelines\n",
    "\n",
    "Set up preprocessing pipelines for each of our algorithms.\n",
    "\n",
    "**Our <span style=\"color:royalblue\">pipeline dictionary</span> with pipelines for each algorithm**. \n",
    "\n",
    "**KEYS**:\n",
    "* <code style=\"color:crimson\">'l1'</code> for $L_1$-regularized logistic regression\n",
    "* <code style=\"color:crimson\">'l2'</code> for $L_2$-regularized logistic regression\n",
    "* <code style=\"color:crimson\">'rf'</code> for random forest\n",
    "* <code style=\"color:crimson\">'gb'</code> for gradient boosted tree.\n",
    "\n",
    "Note: Each pipeline tandardizes the data first.\n"
   ]
  },
  {
   "cell_type": "code",
   "execution_count": 46,
   "metadata": {},
   "outputs": [],
   "source": [
    "# Pipeline dictionary\n",
    "pipeline = {'l1' : make_pipeline(StandardScaler(), LogisticRegression(penalty='l1')),\n",
    "            'l2' : make_pipeline(StandardScaler(), LogisticRegression(penalty='l2')),\n",
    "            'rf' : make_pipeline(StandardScaler(), RandomForestClassifier()),\n",
    "            'gb' : make_pipeline(StandardScaler(), GradientBoostingClassifier())\n",
    "           }"
   ]
  },
  {
   "cell_type": "markdown",
   "metadata": {},
   "source": [
    "# 3. Declare hyperparameters to tune\n",
    "\n",
    "**listing hyperparameters to be tuned for each of our algorithms in the pipeline.**"
   ]
  },
  {
   "cell_type": "code",
   "execution_count": 65,
   "metadata": {},
   "outputs": [
    {
     "name": "stdout",
     "output_type": "stream",
     "text": [
      "{'memory': None, 'steps': [('standardscaler', StandardScaler(copy=True, with_mean=True, with_std=True)), ('logisticregression', LogisticRegression(C=1.0, class_weight=None, dual=False, fit_intercept=True,\n",
      "          intercept_scaling=1, max_iter=100, multi_class='ovr', n_jobs=1,\n",
      "          penalty='l1', random_state=None, solver='liblinear', tol=0.0001,\n",
      "          verbose=0, warm_start=False))], 'standardscaler': StandardScaler(copy=True, with_mean=True, with_std=True), 'logisticregression': LogisticRegression(C=1.0, class_weight=None, dual=False, fit_intercept=True,\n",
      "          intercept_scaling=1, max_iter=100, multi_class='ovr', n_jobs=1,\n",
      "          penalty='l1', random_state=None, solver='liblinear', tol=0.0001,\n",
      "          verbose=0, warm_start=False), 'standardscaler__copy': True, 'standardscaler__with_mean': True, 'standardscaler__with_std': True, 'logisticregression__C': 1.0, 'logisticregression__class_weight': None, 'logisticregression__dual': False, 'logisticregression__fit_intercept': True, 'logisticregression__intercept_scaling': 1, 'logisticregression__max_iter': 100, 'logisticregression__multi_class': 'ovr', 'logisticregression__n_jobs': 1, 'logisticregression__penalty': 'l1', 'logisticregression__random_state': None, 'logisticregression__solver': 'liblinear', 'logisticregression__tol': 0.0001, 'logisticregression__verbose': 0, 'logisticregression__warm_start': False}\n"
     ]
    }
   ],
   "source": [
    "# Logistic Regression 'L1' hyperparamters\n",
    "print(pipeline['l1'].get_params())\n",
    "l1_hyperparameters = {'logisticregression__C': np.linspace(1e-3,1e3,10)}"
   ]
  },
  {
   "cell_type": "code",
   "execution_count": 68,
   "metadata": {},
   "outputs": [
    {
     "name": "stdout",
     "output_type": "stream",
     "text": [
      "{'memory': None, 'steps': [('standardscaler', StandardScaler(copy=True, with_mean=True, with_std=True)), ('logisticregression', LogisticRegression(C=1.0, class_weight=None, dual=False, fit_intercept=True,\n",
      "          intercept_scaling=1, max_iter=100, multi_class='ovr', n_jobs=1,\n",
      "          penalty='l2', random_state=None, solver='liblinear', tol=0.0001,\n",
      "          verbose=0, warm_start=False))], 'standardscaler': StandardScaler(copy=True, with_mean=True, with_std=True), 'logisticregression': LogisticRegression(C=1.0, class_weight=None, dual=False, fit_intercept=True,\n",
      "          intercept_scaling=1, max_iter=100, multi_class='ovr', n_jobs=1,\n",
      "          penalty='l2', random_state=None, solver='liblinear', tol=0.0001,\n",
      "          verbose=0, warm_start=False), 'standardscaler__copy': True, 'standardscaler__with_mean': True, 'standardscaler__with_std': True, 'logisticregression__C': 1.0, 'logisticregression__class_weight': None, 'logisticregression__dual': False, 'logisticregression__fit_intercept': True, 'logisticregression__intercept_scaling': 1, 'logisticregression__max_iter': 100, 'logisticregression__multi_class': 'ovr', 'logisticregression__n_jobs': 1, 'logisticregression__penalty': 'l2', 'logisticregression__random_state': None, 'logisticregression__solver': 'liblinear', 'logisticregression__tol': 0.0001, 'logisticregression__verbose': 0, 'logisticregression__warm_start': False}\n"
     ]
    }
   ],
   "source": [
    "# Logistic Regression 'L2' hyperparameters\n",
    "print(pipeline['l2'].get_params())\n",
    "l2_hyperparameters = {'logisticregression__C': np.linspace(1e-3,1e3,10)}"
   ]
  },
  {
   "cell_type": "markdown",
   "metadata": {},
   "source": [
    "**Declare the hyperparameter grid for the random forest.**"
   ]
  },
  {
   "cell_type": "code",
   "execution_count": 86,
   "metadata": {},
   "outputs": [
    {
     "name": "stdout",
     "output_type": "stream",
     "text": [
      "{'memory': None, 'steps': [('standardscaler', StandardScaler(copy=True, with_mean=True, with_std=True)), ('randomforestclassifier', RandomForestClassifier(bootstrap=True, class_weight=None, criterion='gini',\n",
      "            max_depth=None, max_features='auto', max_leaf_nodes=None,\n",
      "            min_impurity_decrease=0.0, min_impurity_split=None,\n",
      "            min_samples_leaf=1, min_samples_split=2,\n",
      "            min_weight_fraction_leaf=0.0, n_estimators=10, n_jobs=1,\n",
      "            oob_score=False, random_state=None, verbose=0,\n",
      "            warm_start=False))], 'standardscaler': StandardScaler(copy=True, with_mean=True, with_std=True), 'randomforestclassifier': RandomForestClassifier(bootstrap=True, class_weight=None, criterion='gini',\n",
      "            max_depth=None, max_features='auto', max_leaf_nodes=None,\n",
      "            min_impurity_decrease=0.0, min_impurity_split=None,\n",
      "            min_samples_leaf=1, min_samples_split=2,\n",
      "            min_weight_fraction_leaf=0.0, n_estimators=10, n_jobs=1,\n",
      "            oob_score=False, random_state=None, verbose=0,\n",
      "            warm_start=False), 'standardscaler__copy': True, 'standardscaler__with_mean': True, 'standardscaler__with_std': True, 'randomforestclassifier__bootstrap': True, 'randomforestclassifier__class_weight': None, 'randomforestclassifier__criterion': 'gini', 'randomforestclassifier__max_depth': None, 'randomforestclassifier__max_features': 'auto', 'randomforestclassifier__max_leaf_nodes': None, 'randomforestclassifier__min_impurity_decrease': 0.0, 'randomforestclassifier__min_impurity_split': None, 'randomforestclassifier__min_samples_leaf': 1, 'randomforestclassifier__min_samples_split': 2, 'randomforestclassifier__min_weight_fraction_leaf': 0.0, 'randomforestclassifier__n_estimators': 10, 'randomforestclassifier__n_jobs': 1, 'randomforestclassifier__oob_score': False, 'randomforestclassifier__random_state': None, 'randomforestclassifier__verbose': 0, 'randomforestclassifier__warm_start': False}\n"
     ]
    }
   ],
   "source": [
    "# Random Forest hyperparameters\n",
    "print(pipeline['rf'].get_params())\n",
    "rf_hyperparameters = {'randomforestclassifier__n_estimators': [100,200,300],  'randomforestclassifier__max_features': ['sqrt','auto','log2']}"
   ]
  },
  {
   "cell_type": "markdown",
   "metadata": {},
   "source": [
    "**Declare the hyperparameter grid for the boosted tree.**"
   ]
  },
  {
   "cell_type": "code",
   "execution_count": 82,
   "metadata": {},
   "outputs": [
    {
     "name": "stdout",
     "output_type": "stream",
     "text": [
      "{'memory': None, 'steps': [('standardscaler', StandardScaler(copy=True, with_mean=True, with_std=True)), ('gradientboostingclassifier', GradientBoostingClassifier(criterion='friedman_mse', init=None,\n",
      "              learning_rate=0.1, loss='deviance', max_depth=3,\n",
      "              max_features=None, max_leaf_nodes=None,\n",
      "              min_impurity_decrease=0.0, min_impurity_split=None,\n",
      "              min_samples_leaf=1, min_samples_split=2,\n",
      "              min_weight_fraction_leaf=0.0, n_estimators=100,\n",
      "              presort='auto', random_state=None, subsample=1.0, verbose=0,\n",
      "              warm_start=False))], 'standardscaler': StandardScaler(copy=True, with_mean=True, with_std=True), 'gradientboostingclassifier': GradientBoostingClassifier(criterion='friedman_mse', init=None,\n",
      "              learning_rate=0.1, loss='deviance', max_depth=3,\n",
      "              max_features=None, max_leaf_nodes=None,\n",
      "              min_impurity_decrease=0.0, min_impurity_split=None,\n",
      "              min_samples_leaf=1, min_samples_split=2,\n",
      "              min_weight_fraction_leaf=0.0, n_estimators=100,\n",
      "              presort='auto', random_state=None, subsample=1.0, verbose=0,\n",
      "              warm_start=False), 'standardscaler__copy': True, 'standardscaler__with_mean': True, 'standardscaler__with_std': True, 'gradientboostingclassifier__criterion': 'friedman_mse', 'gradientboostingclassifier__init': None, 'gradientboostingclassifier__learning_rate': 0.1, 'gradientboostingclassifier__loss': 'deviance', 'gradientboostingclassifier__max_depth': 3, 'gradientboostingclassifier__max_features': None, 'gradientboostingclassifier__max_leaf_nodes': None, 'gradientboostingclassifier__min_impurity_decrease': 0.0, 'gradientboostingclassifier__min_impurity_split': None, 'gradientboostingclassifier__min_samples_leaf': 1, 'gradientboostingclassifier__min_samples_split': 2, 'gradientboostingclassifier__min_weight_fraction_leaf': 0.0, 'gradientboostingclassifier__n_estimators': 100, 'gradientboostingclassifier__presort': 'auto', 'gradientboostingclassifier__random_state': None, 'gradientboostingclassifier__subsample': 1.0, 'gradientboostingclassifier__verbose': 0, 'gradientboostingclassifier__warm_start': False}\n"
     ]
    }
   ],
   "source": [
    "# Boosted Tree hyperparameters\n",
    "print(pipeline['gb'].get_params())\n",
    "gb_hyperparameters = {'gradientboostingclassifier__n_estimators': [100, 200,300], 'gradientboostingclassifier__max_depth': [1,2,3,4,5],'gradientboostingclassifier__learning_rate': [0.01,0.05,0.1,0.15,0.2]}"
   ]
  },
  {
   "cell_type": "markdown",
   "metadata": {},
   "source": [
    "### Create our hyperparameter dictionary"
   ]
  },
  {
   "cell_type": "code",
   "execution_count": 87,
   "metadata": {},
   "outputs": [],
   "source": [
    "# Create hyperparameters dictionary\n",
    "hyperparameters = {'l1':l1_hyperparameters, 'l2':l2_hyperparameters, 'rf':rf_hyperparameters,'gb':gb_hyperparameters}"
   ]
  },
  {
   "cell_type": "markdown",
   "metadata": {},
   "source": [
    "# 4. Fit and tune models with cross-validation\n",
    "\n",
    "Time to to tune our models with **cross-validation**.\n",
    "\n",
    "* The keys are the same as those in the <code style=\"color:SteelBlue\">pipelines</code> and <code style=\"color:SteelBlue\">hyperparameters</code> dictionaries -  for ease of use. \n",
    "* The values are <code style=\"color:steelblue\">GridSearchCV</code> objects that have been fitted to <code style=\"color:steelblue\">X_train</code> and <code style=\"color:steelblue\">y_train</code>.\n",
    "* After fitting each model, we print <code style=\"color:crimson\">'{name} has been fitted.'</code> to track the progress.\n",
    "\n",
    "**HIGHLY IMPORTANT: It will take some time. Be patient, take a chill pill, look out the window**"
   ]
  },
  {
   "cell_type": "code",
   "execution_count": 88,
   "metadata": {},
   "outputs": [
    {
     "name": "stdout",
     "output_type": "stream",
     "text": [
      "l1 has been fitted!\n",
      "l2 has been fitted!\n",
      "rf has been fitted!\n",
      "gb has been fitted!\n"
     ]
    }
   ],
   "source": [
    "# Create empty dictionary called fitted_models to store our models tuned using cross-validation\n",
    "fitted_models = {}\n",
    "\n",
    "# Loop through model pipelines, tuning each one and saving it to fitted_models\n",
    "for name, algo in pipeline.items():\n",
    "    # Create cross-validation object from pipeline and hyperparameters\n",
    "    model = GridSearchCV(algo, hyperparameters[name], cv=10)\n",
    "    # Fit model on X_train, y_train\n",
    "    model.fit(X_train, y_train)\n",
    "    # Store model in fitted_models with appropriate key \n",
    "    fitted_models[name] = model\n",
    "    # Print '{name} has been fitted'\n",
    "    print(name, 'has been fitted!')"
   ]
  },
  {
   "cell_type": "markdown",
   "metadata": {},
   "source": [
    "# 5. Evaluate metrics\n",
    "\n",
    "Time to evaluate our models and pick the best one."
   ]
  },
  {
   "cell_type": "code",
   "execution_count": 89,
   "metadata": {},
   "outputs": [
    {
     "name": "stdout",
     "output_type": "stream",
     "text": [
      "l1 best score: 0.848676026302\n",
      "l2 best score: 0.848676026302\n",
      "rf best score: 0.977785676204\n",
      "gb best score: 0.976363959481\n"
     ]
    }
   ],
   "source": [
    "# Display best_score_ for each fitted model\n",
    "for name, model in fitted_models.items():\n",
    "    print(name, 'best score:', model.best_score_)"
   ]
  },
  {
   "cell_type": "markdown",
   "metadata": {},
   "source": [
    "Scores are holdout accuracy scores. For classification problems, the default scoring metric is accuracy.\n",
    "- Accuracy is simply the percent of observations correctly classified by the model.\n",
    "\n",
    "However, straight accuracy is not always the best way to evaluate a classification model - if our target class is an imblanced class, then strongly predominant value might be positive, so even poor model's will score a \"high\" accuracy."
   ]
  },
  {
   "cell_type": "markdown",
   "metadata": {},
   "source": [
    "# 6. Area under ROC curve\n",
    "\n",
    "**Area under ROC curve** is a strong,reliable metric for classification tasks.\n",
    "\n",
    "Area under ROC curve is equivalent to the probability that a randomly chosen 'Left' observation ranks higher (has a higher predicted probability) than a randomly chosen 'Employed' observation.\n",
    "\n",
    "Basically, the ROC curve isa saying if you grabbed two observations and exactly one of them was the positive class and one of them was the negative class, what's the likelihood that your model can distinguish the two?\n",
    "- Since it's choosing one random positve and one random negative, it doesn't care about imbalanced classes."
   ]
  },
  {
   "cell_type": "code",
   "execution_count": 101,
   "metadata": {
    "collapsed": true
   },
   "outputs": [],
   "source": [
    "# Classification metrics\n",
    "from sklearn.metrics import confusion_matrix, roc_curve, auc"
   ]
  },
  {
   "cell_type": "markdown",
   "metadata": {},
   "source": [
    "Firstly lets take a look at our **confusion matrix** "
   ]
  },
  {
   "cell_type": "code",
   "execution_count": 108,
   "metadata": {},
   "outputs": [
    {
     "data": {
      "text/plain": [
       "array([0, 0, 0, 1, 1, 0, 0, 0, 0, 0])"
      ]
     },
     "execution_count": 108,
     "metadata": {},
     "output_type": "execute_result"
    }
   ],
   "source": [
    "# Predict classes using L1-regularized logistic regression \n",
    "l1_pred = fitted_models['l1'].predict(X_test)\n",
    "# Display first 10 predictions for later comparison withtheir predicted probabalities\n",
    "l1_pred[:10]"
   ]
  },
  {
   "cell_type": "code",
   "execution_count": 109,
   "metadata": {
    "scrolled": true
   },
   "outputs": [
    {
     "data": {
      "text/html": [
       "<div>\n",
       "<style>\n",
       "    .dataframe thead tr:only-child th {\n",
       "        text-align: right;\n",
       "    }\n",
       "\n",
       "    .dataframe thead th {\n",
       "        text-align: left;\n",
       "    }\n",
       "\n",
       "    .dataframe tbody tr th {\n",
       "        vertical-align: top;\n",
       "    }\n",
       "</style>\n",
       "<table border=\"1\" class=\"dataframe\">\n",
       "  <thead>\n",
       "    <tr style=\"text-align: right;\">\n",
       "      <th></th>\n",
       "      <th>0</th>\n",
       "      <th>1</th>\n",
       "    </tr>\n",
       "  </thead>\n",
       "  <tbody>\n",
       "    <tr>\n",
       "      <th>0</th>\n",
       "      <td>1937</td>\n",
       "      <td>183</td>\n",
       "    </tr>\n",
       "    <tr>\n",
       "      <th>1</th>\n",
       "      <td>266</td>\n",
       "      <td>428</td>\n",
       "    </tr>\n",
       "  </tbody>\n",
       "</table>\n",
       "</div>"
      ],
      "text/plain": [
       "      0    1\n",
       "0  1937  183\n",
       "1   266  428"
      ]
     },
     "execution_count": 109,
     "metadata": {},
     "output_type": "execute_result"
    }
   ],
   "source": [
    "# Display confusion matrix for y_test and pred\n",
    "cm = pd.DataFrame(confusion_matrix(y_test, l1_pred))\n",
    "cm.head()"
   ]
  },
  {
   "cell_type": "markdown",
   "metadata": {},
   "source": [
    "Not so bueno....\n",
    "\n",
    "Our threshold of 0.5 seems to be miscallsifying many points. WE must find a best threshold that will maximize our model's TPR (True Positive Rate) and minimize it's FPR (False Positive Rate). AS well in predicting employee retention, there is no need to stress one classification or the other as in the case of terminal illness diagnostic.\n",
    "\n",
    "That why we use ze area under the ROC curve :)\n",
    "\n",
    "ROC curve:\n",
    "\n",
    "The ROC curve is a way to visualize the relationship between TPR (True Positive Rate) and FPR (False Positive Rate) across our model's threshold values.\n",
    "\n",
    "Lets calculate and plot our L1-regularized logistic regression model's ROC."
   ]
  },
  {
   "cell_type": "code",
   "execution_count": 110,
   "metadata": {
    "scrolled": true
   },
   "outputs": [
    {
     "data": {
      "text/plain": [
       "[0.093680773747525981,\n",
       " 0.0015442983341427672,\n",
       " 0.010302337849146226,\n",
       " 0.72428475318602648,\n",
       " 0.79176777554682842,\n",
       " 0.052164626646663347,\n",
       " 0.040189205655579596,\n",
       " 0.028762396204263994,\n",
       " 0.061010721250835731,\n",
       " 0.28444946853333514]"
      ]
     },
     "execution_count": 110,
     "metadata": {},
     "output_type": "execute_result"
    }
   ],
   "source": [
    "# Predict PROBABILITIES using L1-regularized logistic regression\n",
    "pred_l1 = fitted_models['l1'].predict_proba(X_test)\n",
    "\n",
    "# Get just the prediction for the positive class (1)\n",
    "pred_l1 = [pred[1] for pred in pred_l1]\n",
    "\n",
    "# Display first 10 predictions\n",
    "pred_l1[:10]"
   ]
  },
  {
   "cell_type": "markdown",
   "metadata": {},
   "source": [
    "We calculate the ROC curve for L1-regularized logistic regression model using the <code style=\"color:steelblue\">roc_curve()</code> function that we imported earlier.\n",
    "\n",
    "<code style=\"color:steelblue\">roc_curve()</code> returns 3 lists of equal length:\n",
    "- False positive rates\n",
    "- True positive rates\n",
    "- And the thresholds at which the those were calculated."
   ]
  },
  {
   "cell_type": "code",
   "execution_count": 112,
   "metadata": {},
   "outputs": [],
   "source": [
    "# Calculate ROC curve from y_test and pred\n",
    "fpr, tpr, thresh = roc_curve(y_test, pred_l1)"
   ]
  },
  {
   "cell_type": "markdown",
   "metadata": {},
   "source": [
    "Converting into a data frame for convenience and look at the last 10:"
   ]
  },
  {
   "cell_type": "code",
   "execution_count": 114,
   "metadata": {
    "scrolled": true
   },
   "outputs": [
    {
     "data": {
      "text/html": [
       "<div>\n",
       "<style>\n",
       "    .dataframe thead tr:only-child th {\n",
       "        text-align: right;\n",
       "    }\n",
       "\n",
       "    .dataframe thead th {\n",
       "        text-align: left;\n",
       "    }\n",
       "\n",
       "    .dataframe tbody tr th {\n",
       "        vertical-align: top;\n",
       "    }\n",
       "</style>\n",
       "<table border=\"1\" class=\"dataframe\">\n",
       "  <thead>\n",
       "    <tr style=\"text-align: right;\">\n",
       "      <th></th>\n",
       "      <th>FPR</th>\n",
       "      <th>TPR</th>\n",
       "      <th>Thresholds</th>\n",
       "    </tr>\n",
       "  </thead>\n",
       "  <tbody>\n",
       "    <tr>\n",
       "      <th>606</th>\n",
       "      <td>0.755660</td>\n",
       "      <td>0.994236</td>\n",
       "      <td>0.010753</td>\n",
       "    </tr>\n",
       "    <tr>\n",
       "      <th>607</th>\n",
       "      <td>0.783962</td>\n",
       "      <td>0.994236</td>\n",
       "      <td>0.008737</td>\n",
       "    </tr>\n",
       "    <tr>\n",
       "      <th>608</th>\n",
       "      <td>0.783962</td>\n",
       "      <td>0.995677</td>\n",
       "      <td>0.008724</td>\n",
       "    </tr>\n",
       "    <tr>\n",
       "      <th>609</th>\n",
       "      <td>0.852830</td>\n",
       "      <td>0.995677</td>\n",
       "      <td>0.005025</td>\n",
       "    </tr>\n",
       "    <tr>\n",
       "      <th>610</th>\n",
       "      <td>0.852830</td>\n",
       "      <td>0.997118</td>\n",
       "      <td>0.005015</td>\n",
       "    </tr>\n",
       "    <tr>\n",
       "      <th>611</th>\n",
       "      <td>0.915094</td>\n",
       "      <td>0.997118</td>\n",
       "      <td>0.002521</td>\n",
       "    </tr>\n",
       "    <tr>\n",
       "      <th>612</th>\n",
       "      <td>0.915094</td>\n",
       "      <td>0.998559</td>\n",
       "      <td>0.002506</td>\n",
       "    </tr>\n",
       "    <tr>\n",
       "      <th>613</th>\n",
       "      <td>0.935849</td>\n",
       "      <td>0.998559</td>\n",
       "      <td>0.001756</td>\n",
       "    </tr>\n",
       "    <tr>\n",
       "      <th>614</th>\n",
       "      <td>0.935849</td>\n",
       "      <td>1.000000</td>\n",
       "      <td>0.001741</td>\n",
       "    </tr>\n",
       "    <tr>\n",
       "      <th>615</th>\n",
       "      <td>1.000000</td>\n",
       "      <td>1.000000</td>\n",
       "      <td>0.000066</td>\n",
       "    </tr>\n",
       "  </tbody>\n",
       "</table>\n",
       "</div>"
      ],
      "text/plain": [
       "          FPR       TPR  Thresholds\n",
       "606  0.755660  0.994236    0.010753\n",
       "607  0.783962  0.994236    0.008737\n",
       "608  0.783962  0.995677    0.008724\n",
       "609  0.852830  0.995677    0.005025\n",
       "610  0.852830  0.997118    0.005015\n",
       "611  0.915094  0.997118    0.002521\n",
       "612  0.915094  0.998559    0.002506\n",
       "613  0.935849  0.998559    0.001756\n",
       "614  0.935849  1.000000    0.001741\n",
       "615  1.000000  1.000000    0.000066"
      ]
     },
     "execution_count": 114,
     "metadata": {},
     "output_type": "execute_result"
    }
   ],
   "source": [
    "# Store fpr, tpr, thresholds in DataFrame and display last 10\n",
    "roc = pd.DataFrame({'FPR': fpr, 'TPR': tpr, 'Thresholds': thresh})\n",
    "roc.tail(10)"
   ]
  },
  {
   "cell_type": "markdown",
   "metadata": {},
   "source": [
    "Decrease the threshold, both the false positive rate (no bueno) **and** the true positive rate (bueno) increase.\n",
    "\n",
    "Now, plotting our model's entire curve ROC curve  to visualize the relationship between TPR (True Positive Rate) and FPR (False Positive Rate) across our model's threshold values.\n",
    "\n",
    "Also plot an ROC curve of a hypothetical model that makes completely random predictions for heuristic reasons."
   ]
  },
  {
   "cell_type": "code",
   "execution_count": 123,
   "metadata": {},
   "outputs": [
    {
     "data": {
      "image/png": "[encoded data removed]",
      "text/plain": [
       "<matplotlib.figure.Figure at 0x118c8a7b8>"
      ]
     },
     "metadata": {},
     "output_type": "display_data"
    }
   ],
   "source": [
    "# Initialize figure\n",
    "plt.figure(figsize=(8,8))\n",
    "plt.title('Receiver Operating Characteristic')\n",
    "\n",
    "# Plot ROC curve\n",
    "plt.plot(fpr, tpr, label='L1')\n",
    "plt.legend(loc='lower right')\n",
    "\n",
    "# Diagonal 45 degree line\n",
    "# ROC curve of a completely random model\n",
    "plt.plot([0,1],[0,1],'k--')\n",
    "\n",
    "# Axes limits and labels\n",
    "plt.xlim([-0.1,1.1])\n",
    "plt.ylim([-0.1,1.1])\n",
    "plt.ylabel('True Positive Rate')\n",
    "plt.xlabel('False Positive Rate')\n",
    "plt.show()"
   ]
  },
  {
   "cell_type": "markdown",
   "metadata": {},
   "source": [
    "Basically, we want our model's curve, the blue line, to sit as far above that dotted black line as possible.\n",
    "\n",
    "**AUROC : Aread Under ROC curve**\n",
    "or area under that blue line.\n",
    "\n",
    "- The AUROC for a completely random model will be 0.5 (worst case).\n",
    "- The maximum AUROC possible is 1.0.\n",
    "\n",
    "To calculate AUROC, we use the <code style=\"color:steelblue\">auc()</code> function we imported earlier in conjunction with the <code style=\"color:steelblue\">roc_curve()</code> function."
   ]
  },
  {
   "cell_type": "code",
   "execution_count": 126,
   "metadata": {},
   "outputs": [
    {
     "name": "stdout",
     "output_type": "stream",
     "text": [
      "0.889708960905\n"
     ]
    }
   ],
   "source": [
    "# Calculate ROC curve again because repetition is the mother of learning\n",
    "fpr, tpr, thresholds = roc_curve(y_test, pred_l1)\n",
    "# Calculate AUROC\n",
    "print( auc(fpr, tpr))"
   ]
  },
  {
   "cell_type": "markdown",
   "metadata": {},
   "source": [
    "So our L1-regularized logistic regression has a 88.97% chance of distinguishing between a positive observation and a negative one... not bad!\n",
    "\n",
    "That's the intuition behind AUROC.\n",
    "\n",
    "Calculating the AUROC for each of our fitted models on the test set."
   ]
  },
  {
   "cell_type": "code",
   "execution_count": 133,
   "metadata": {},
   "outputs": [
    {
     "name": "stdout",
     "output_type": "stream",
     "text": [
      "l1 : 0.889708960905\n",
      "l2 : 0.889710320265\n",
      "rf : 0.990653036811\n",
      "gb : 0.989602930781\n"
     ]
    }
   ],
   "source": [
    "# AUROC's of each of our fitted models\n",
    "\n",
    "for name, model in fitted_models.items():\n",
    "    pred = model.predict_proba(X_test)\n",
    "    pred2 = [p[1] for p in pred]\n",
    "    fpr, tpr, thresh = roc_curve(y_test, pred2)\n",
    "    print(name, ':', auc(fpr, tpr))\n",
    "\n"
   ]
  },
  {
   "cell_type": "markdown",
   "metadata": {},
   "source": [
    "Our random forest obtained the highest AUROC score as well as previously the highest cross-validation score after tuning our hyperparamters. Seems like Random forest is our best model.\n",
    "\n",
    "**Save the winning <code style=\"color:steelblue\">Pipeline</code> object into a pickle file.**\n",
    "* Save the <code style=\"color:steelblue\">fitted model</code>, not the <code style=\"color:steelblue\">GridSearchCV</code> object!\n"
   ]
  },
  {
   "cell_type": "code",
   "execution_count": 135,
   "metadata": {},
   "outputs": [],
   "source": [
    "# Save winning model as final_model.pkl\n",
    "with open('project2_final_model.pkl', 'wb') as f:\n",
    "    pickle.dump(fitted_models['rf'].best_estimator_, f)"
   ]
  },
  {
   "cell_type": "markdown",
   "metadata": {},
   "source": [
    "\n",
    "Recap: essential steps to training a model:\n",
    "* Split the dataset into training and test sets.\n",
    "* Set up model pipelines and hyperparameter grids.\n",
    "* Tune your models using cross-validation.\n",
    "* for classification, evaluate your models with the AUROC metric\n",
    "* And finally, save the winning model.\n"
   ]
  },
  {
   "cell_type": "code",
   "execution_count": null,
   "metadata": {
    "collapsed": true
   },
   "outputs": [],
   "source": []
  }
 ],
 "metadata": {
  "anaconda-cloud": {},
  "kernelspec": {
   "display_name": "Python 3",
   "language": "python",
   "name": "python3"
  },
  "language_info": {
   "codemirror_mode": {
    "name": "ipython",
    "version": 3
   },
   "file_extension": ".py",
   "mimetype": "text/x-python",
   "name": "python",
   "nbconvert_exporter": "python",
   "pygments_lexer": "ipython3",
   "version": "3.6.4"
  }
 },
 "nbformat": 4,
 "nbformat_minor": 1
}
