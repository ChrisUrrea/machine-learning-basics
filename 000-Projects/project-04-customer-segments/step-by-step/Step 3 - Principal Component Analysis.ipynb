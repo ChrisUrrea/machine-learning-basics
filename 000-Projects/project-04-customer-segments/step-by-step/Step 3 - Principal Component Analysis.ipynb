{
 "cells": [
  {
   "cell_type": "markdown",
   "metadata": {},
   "source": [
    "<h1 style=\"font-size:42px; text-align:center; margin-bottom:30px;\"><span style=\"color:SteelBlue\">Step 3:</span> Principal Component Analysis</h1>\n",
    "<hr>\n",
    "\n",
    "\n",
    "Principal Component Analysis, or PCA, seeks to create new features from linear combinations of the original ones. These new features, called **principal components**, are meant to maximize the **\"explained variance,\"** that is retatin the predicitve power of our model.\n",
    "\n",
    "* PCA is especially effective when you have many correlated features. That is because if you have many correlated features, you can use PCA to capture the key axes of variance and drastically reduce the number of features.\n",
    "\n",
    "\n",
    "Aim:\n",
    "* Prepare individual item features for our clustering algorithms, using PCA to reduce data dimensionality.\n",
    "    * Important: PCA creates new features that **replace** the original ones.\n",
    "\n",
    "\n",
    "Summary:\n",
    "1. [Toy example: oval blob](#oval-blob)\n",
    "2. [Principal components](#components)\n",
    "3. [Dimensionality reduction](#reduction)\n",
    "4. [Item data PCA](#item-data)\n",
    "5. [Explained variance](#explained-variance)"
   ]
  },
  {
   "cell_type": "code",
   "execution_count": 5,
   "metadata": {
    "collapsed": true
   },
   "outputs": [],
   "source": [
    "# Imporitng Ze libraries\n",
    "\n",
    "# NumPy for numerical computing\n",
    "import numpy as np\n",
    "# Pandas for DataFrames\n",
    "import pandas as pd\n",
    "# Matplotlib for visualization\n",
    "import matplotlib.pyplot as plt\n",
    "# display plots in the notebook\n",
    "%matplotlib inline\n",
    "# Seaborn for easier visualization\n",
    "import seaborn as sns\n",
    "# StandardScaler from Scikit-Learn\n",
    "from sklearn.preprocessing import StandardScaler"
   ]
  },
  {
   "cell_type": "markdown",
   "metadata": {},
   "source": [
    "importing the full item data that we saved before applying thresholds\n",
    "* we'll pass in <code style=\"color:steelblue\">index_col=0</code> to treat the first column (CustomerID) as the index."
   ]
  },
  {
   "cell_type": "code",
   "execution_count": 8,
   "metadata": {
    "collapsed": true
   },
   "outputs": [],
   "source": [
    "# Read item_data.csv\n",
    "item_data = pd.read_csv('item_data.csv', index_col=0)"
   ]
  },
  {
   "cell_type": "markdown",
   "metadata": {},
   "source": [
    "Just to confirm, our dataset should have 2574 features:"
   ]
  },
  {
   "cell_type": "code",
   "execution_count": 9,
   "metadata": {},
   "outputs": [
    {
     "data": {
      "text/plain": [
       "(414, 2574)"
      ]
     },
     "execution_count": 9,
     "metadata": {},
     "output_type": "execute_result"
    }
   ],
   "source": [
    "# Display item_data shape\n",
    "item_data.shape"
   ]
  },
  {
   "cell_type": "markdown",
   "metadata": {},
   "source": [
    "# 1. Toy example: oval blob\n",
    "\n",
    "PCA is an elegant technique that's very practical, but it can be a bit hard to understand right away.\n",
    "\n",
    "Using a toy example to break down the intuition behind PCA.\n",
    "\n",
    "**We'll create an \"oval blob\" synthetic dataset.**\n",
    "* Instead of both input features and a target variable, we'll only have 2 input features.\n",
    "* $x_1$ will be random samples from a normal distribution.\n",
    "* $x_2$ will be random samples from a normal distribution **plus $x_1$**."
   ]
  },
  {
   "cell_type": "code",
   "execution_count": 11,
   "metadata": {
    "collapsed": true
   },
   "outputs": [],
   "source": [
    "# Set random seed\n",
    "np.random.seed(101)\n",
    "# Create first feature: x1\n",
    "x1 = np.random.normal(0,1,100)\n",
    "# Create second feature: x2\n",
    "x2 = x1 + np.random.normal(0,1,100)"
   ]
  },
  {
   "cell_type": "markdown",
   "metadata": {},
   "source": [
    "**Stacking them together to form <code style=\"color:steelblue\">X</code> - the input feature matrix.**"
   ]
  },
  {
   "cell_type": "code",
   "execution_count": 21,
   "metadata": {
    "scrolled": true
   },
   "outputs": [
    {
     "name": "stdout",
     "output_type": "stream",
     "text": [
      "(100, 2)\n"
     ]
    }
   ],
   "source": [
    "# Stack together as columns\n",
    "X = np.stack([x1, x2], axis=1)\n",
    "\n",
    "# Print shape of X\n",
    "print(X.shape)"
   ]
  },
  {
   "cell_type": "markdown",
   "metadata": {},
   "source": [
    "**Creating a scaled version of our feature matrix: <code style=\"color:steelblue\">X_scaled</code>.**"
   ]
  },
  {
   "cell_type": "code",
   "execution_count": 24,
   "metadata": {},
   "outputs": [
    {
     "data": {
      "text/plain": [
       "array([[ 2.45737416,  2.76968241],\n",
       "       [ 0.44665735, -0.38363275],\n",
       "       [ 0.71733989, -0.37695455],\n",
       "       [ 0.3264168 , -0.60579169],\n",
       "       [ 0.46889068,  0.39146426]])"
      ]
     },
     "execution_count": 24,
     "metadata": {},
     "output_type": "execute_result"
    }
   ],
   "source": [
    "# Initialize our StandardScaler\n",
    "scale = StandardScaler()\n",
    "# Fit and apply transform to X\n",
    "X_scaled = scale.fit_transform(X)\n",
    "# Display first 5 rows of X_scaled\n",
    "X_scaled[:5]"
   ]
  },
  {
   "cell_type": "markdown",
   "metadata": {},
   "source": [
    "**Plotting a scatterplot of the scaled $x_1$ against the scaled $x_2$.**\n"
   ]
  },
  {
   "cell_type": "code",
   "execution_count": 28,
   "metadata": {},
   "outputs": [
    {
     "name": "stdout",
     "output_type": "stream",
     "text": [
      "\u001b[H\u001b[2J"
     ]
    },
    {
     "data": {
      "image/png": "[encoded data removed]",
      "text/plain": [
       "<matplotlib.figure.Figure at 0x1a1bffb0f0>"
      ]
     },
     "metadata": {},
     "output_type": "display_data"
    }
   ],
   "source": [
    "# Plot scatterplot of scaled x1 against scaled x2\n",
    "plt.scatter(x=X[:,0], y=X[:,1])\n",
    "\n",
    "# Put plot axes on the same scale\n",
    "plt.axis('equal')\n",
    "\n",
    "# Label axes\n",
    "plt.xlabel('x1 - scaled')\n",
    "plt.ylabel('x2 - scaled')\n",
    "\n",
    "# Clear text residue\n",
    "%clear\n",
    "plt.show()"
   ]
  },
  {
   "cell_type": "markdown",
   "metadata": {},
   "source": [
    "# 2. Principal components\n",
    "\n",
    "Linear types of distribution are very helpful for visualizing the mechanics behind PCA."
   ]
  },
  {
   "cell_type": "code",
   "execution_count": 30,
   "metadata": {},
   "outputs": [
    {
     "data": {
      "text/plain": [
       "PCA(copy=True, iterated_power='auto', n_components=None, random_state=None,\n",
       "  svd_solver='auto', tol=0.0, whiten=False)"
      ]
     },
     "execution_count": 30,
     "metadata": {},
     "output_type": "execute_result"
    }
   ],
   "source": [
    "# Initialize instance of PCA transformation\n",
    "from sklearn.decomposition import PCA\n",
    "\n",
    "pca = PCA()\n",
    "# Fit the instance\n",
    "pca.fit(X_scaled)"
   ]
  },
  {
   "cell_type": "markdown",
   "metadata": {},
   "source": [
    "**Displaying the principal components.**"
   ]
  },
  {
   "cell_type": "code",
   "execution_count": 31,
   "metadata": {
    "scrolled": true
   },
   "outputs": [
    {
     "data": {
      "text/plain": [
       "array([[ 0.70710678,  0.70710678],\n",
       "       [-0.70710678,  0.70710678]])"
      ]
     },
     "execution_count": 31,
     "metadata": {},
     "output_type": "execute_result"
    }
   ],
   "source": [
    "# Display principal components\n",
    "pca.components_"
   ]
  },
  {
   "cell_type": "markdown",
   "metadata": {},
   "source": [
    "Note: We have two principal components (feature vectors).\n",
    "- The maximum possible number of principal components is either the number of original features or the number of observations in your dataset, whichever is lower.\n",
    "    - in our case we have # of features as lowest (n=2), thus we have two principal components.\n",
    "    \n",
    "**We'll overlay the principal components on our oval blob.**\n",
    "* So we can see the principal components more easily. For clarity:\n",
    "    * We'll plot the first principal component in **black**.\n",
    "    * We'll plot the seconf principal component in <strong style=\"color:red\">red</strong>."
   ]
  },
  {
   "cell_type": "code",
   "execution_count": 35,
   "metadata": {},
   "outputs": [
    {
     "name": "stdout",
     "output_type": "stream",
     "text": [
      "\u001b[H\u001b[2J"
     ]
    },
    {
     "data": {
      "image/png": "[encoded data removed]",
      "text/plain": [
       "<matplotlib.figure.Figure at 0x1a2103d748>"
      ]
     },
     "metadata": {},
     "output_type": "display_data"
    }
   ],
   "source": [
    "# Plot scaled dataset, using alpha param for partial transparency\n",
    "plt.scatter(X_scaled[:,0], X_scaled[:,1], alpha=0.3)\n",
    "# Plot first principal component in black\n",
    "plt.plot([0,pca.components_[0,0]], [0,pca.components_[0,1]], 'k')\n",
    "# Plot second principal component in red\n",
    "plt.plot([0, pca.components_[1,0]], [0, pca.components_[1,1]], 'r')\n",
    "# Set axes\n",
    "plt.axis('equal')\n",
    "plt.xlabel('x1 - scaled')\n",
    "plt.ylabel('x2 - scaled')\n",
    "\n",
    "# Clear text residue\n",
    "%clear"
   ]
  },
  {
   "cell_type": "markdown",
   "metadata": {},
   "source": [
    "The first principal component (in black) represents the \"direction\" of the most variance in the dataset.\n",
    "  - the \"length\" of the oval\n",
    "   \n",
    "The second principal component (in red) represents the direction of the most variance in the dataset after accounting for the first principal component.\n",
    " - the \"width\" of the oval\n",
    "\n",
    "\n",
    "\n",
    "**We'll transform the original features using the fitted PCA instance.**\n",
    "*  PCA generates new features that **replace** the original ones."
   ]
  },
  {
   "cell_type": "code",
   "execution_count": 40,
   "metadata": {},
   "outputs": [
    {
     "data": {
      "text/plain": [
       "array([[ 3.69608715,  0.22083528],\n",
       "       [ 0.04456512, -0.58710376],\n",
       "       [ 0.24068878, -0.77378302],\n",
       "       [-0.19754788, -0.65917095],\n",
       "       [ 0.60836281, -0.05474875]])"
      ]
     },
     "execution_count": 40,
     "metadata": {},
     "output_type": "execute_result"
    }
   ],
   "source": [
    "# Generate new features\n",
    "pca_features = pca.transform(X_scaled)\n",
    "#display first 5 features\n",
    "pca_features[:5]"
   ]
  },
  {
   "cell_type": "code",
   "execution_count": 41,
   "metadata": {},
   "outputs": [
    {
     "data": {
      "image/png": "[encoded data removed]",
      "text/plain": [
       "<matplotlib.figure.Figure at 0x1a2116c358>"
      ]
     },
     "metadata": {},
     "output_type": "display_data"
    }
   ],
   "source": [
    "# Plot transformed dataset\n",
    "plt.scatter(pca_features[:,0], pca_features[:,1],alpha=0.3,color='g')\n",
    "# Plot first principal component in black\n",
    "plt.plot([0,2],[0,0],'k')\n",
    "# Plot second principal component in red\n",
    "plt.plot([0,0],[0,1],'r')\n",
    "# Set axes\n",
    "plt.axis('equal')\n",
    "plt.xlabel('PC1')\n",
    "plt.ylabel('PC2')\n",
    "# Clear text residue\n",
    "plt.show()"
   ]
  },
  {
   "cell_type": "markdown",
   "metadata": {},
   "source": [
    "We see that using PCA, we've still been able capture all of the variance of the original dataset.\n",
    "\n",
    "A few important things to point out:\n",
    "* PC1 alone is able to capture the direction of greatest variance.\n",
    "* And when we keep both PC1 and PC2, we can completely recreate the original dataset.\n",
    "\n"
   ]
  },
  {
   "cell_type": "markdown",
   "metadata": {},
   "source": [
    "# 3. Dimensionality reduction\n",
    "\n",
    "With dimensionality reduction, we aim to keep some number of the \"best\" components, a.k.a. the ones that explain the most variance.\n",
    " - In short, we dont need to keep all of the principal components. Only the ones that explain the most variance.\n",
    "\n",
    "Note: PCA creates a sequence of principal components and each one tries to capture the most variance after accounting for the ones before it.\n",
    "\n",
    "**Displaying the \"explained variance\" ratio of each component.**"
   ]
  },
  {
   "cell_type": "code",
   "execution_count": 47,
   "metadata": {},
   "outputs": [
    {
     "data": {
      "text/plain": [
       "array([ 0.86915841])"
      ]
     },
     "execution_count": 47,
     "metadata": {},
     "output_type": "execute_result"
    }
   ],
   "source": [
    "# Display explained variance ratio\n",
    "pca.explained_variance_ratio_"
   ]
  },
  {
   "cell_type": "markdown",
   "metadata": {},
   "source": [
    "* the first principal component captured almost 87% of the total variance in the dataset\n",
    "\n",
    "**To keep only 1 component, we can simply initialize and fit another PCA transformation.**\n",
    "   - using the argument <code style=\"color:steelblue\">n_components=1</code>."
   ]
  },
  {
   "cell_type": "code",
   "execution_count": 48,
   "metadata": {},
   "outputs": [
    {
     "data": {
      "text/plain": [
       "PCA(copy=True, iterated_power='auto', n_components=1, random_state=None,\n",
       "  svd_solver='auto', tol=0.0, whiten=False)"
      ]
     },
     "execution_count": 48,
     "metadata": {},
     "output_type": "execute_result"
    }
   ],
   "source": [
    "# Initialize and fit a PCA transformation, only keeping 1 component\n",
    "pca = PCA(n_components=1)\n",
    "pca.fit(X_scaled)"
   ]
  },
  {
   "cell_type": "code",
   "execution_count": 49,
   "metadata": {},
   "outputs": [
    {
     "data": {
      "text/plain": [
       "array([[ 0.70710678,  0.70710678]])"
      ]
     },
     "execution_count": 49,
     "metadata": {},
     "output_type": "execute_result"
    }
   ],
   "source": [
    "# Display principal components\n",
    "pca.components_"
   ]
  },
  {
   "cell_type": "markdown",
   "metadata": {},
   "source": [
    "Now if we create the new features, it only creates from the first principle component feature (PC1)."
   ]
  },
  {
   "cell_type": "code",
   "execution_count": 50,
   "metadata": {},
   "outputs": [
    {
     "data": {
      "text/plain": [
       "(100, 1)"
      ]
     },
     "execution_count": 50,
     "metadata": {},
     "output_type": "execute_result"
    }
   ],
   "source": [
    "# Generate new features\n",
    "PC = pca.transform(X_scaled)\n",
    "PC.shape"
   ]
  },
  {
   "cell_type": "code",
   "execution_count": 56,
   "metadata": {},
   "outputs": [
    {
     "data": {
      "image/png": "[encoded data removed]",
      "text/plain": [
       "<matplotlib.figure.Figure at 0x1a215228d0>"
      ]
     },
     "metadata": {},
     "output_type": "display_data"
    }
   ],
   "source": [
    "# Plot transformed dataset\n",
    "plt.scatter(PC[:,0], len(PC)*[0],alpha=0.3,color='g')\n",
    "# Plot first principal component in black\n",
    "plt.plot([0,2],[0,0],'k')\n",
    "# Set axes\n",
    "plt.axis('equal')\n",
    "plt.xlabel('PC1')\n",
    "# Clear text residue\n",
    "plt.show()"
   ]
  },
  {
   "cell_type": "markdown",
   "metadata": {},
   "source": [
    "# 4. Item data PCA\n",
    "\n",
    "Getting back to our original dataset. We shall apply PCA in just the same way we did it to our toy data.\n",
    "\n",
    "**Scaling first the <code style=\"color:crimson\">item_data</code> we imported in the beginning**"
   ]
  },
  {
   "cell_type": "code",
   "execution_count": 57,
   "metadata": {},
   "outputs": [
    {
     "data": {
      "text/plain": [
       "array([[-0.13303802, -0.04920678, -0.1119152 , ..., -0.10482848,\n",
       "        -0.15568183, -0.68068072],\n",
       "       [-0.13303802, -0.04920678, -0.1119152 , ..., -0.10482848,\n",
       "        -0.15568183,  0.38776219],\n",
       "       [-0.13303802, -0.04920678, -0.1119152 , ..., -0.10482848,\n",
       "        -0.15568183, -0.41356999],\n",
       "       [-0.13303802, -0.04920678, -0.1119152 , ..., -0.10482848,\n",
       "        -0.15568183, -0.41356999],\n",
       "       [-0.13303802, -0.04920678, -0.1119152 , ..., -0.10482848,\n",
       "         5.53128397,  0.65487292]])"
      ]
     },
     "execution_count": 57,
     "metadata": {},
     "output_type": "execute_result"
    }
   ],
   "source": [
    "# Initialize instance of StandardScaler\n",
    "from sklearn.preprocessing import StandardScaler\n",
    "# Fit and transform item_data\n",
    "scale = StandardScaler()\n",
    "item_scaled_data = scale.fit_transform(item_data)\n",
    "# Display first 5 rows of item_data_scaled\n",
    "item_scaled_data[:5]"
   ]
  },
  {
   "cell_type": "markdown",
   "metadata": {},
   "source": [
    "**Initializing and fitting an instance of the PCA transformation.**\n",
    "* Keep all of the components for now."
   ]
  },
  {
   "cell_type": "code",
   "execution_count": 60,
   "metadata": {},
   "outputs": [
    {
     "data": {
      "text/plain": [
       "PCA(copy=True, iterated_power='auto', n_components=None, random_state=None,\n",
       "  svd_solver='auto', tol=0.0, whiten=False)"
      ]
     },
     "execution_count": 60,
     "metadata": {},
     "output_type": "execute_result"
    }
   ],
   "source": [
    "# Initialize and fit a PCA transformation\n",
    "pca = PCA()\n",
    "pca.fit(item_scaled_data)"
   ]
  },
  {
   "cell_type": "markdown",
   "metadata": {},
   "source": [
    "**Generating new \"principal component features\" from <code style=\"color:crimson\">item_data_scaled</code>.**\n",
    "* Name the new array <code style=\"color:crimson\">PC_items</code>."
   ]
  },
  {
   "cell_type": "code",
   "execution_count": 61,
   "metadata": {},
   "outputs": [
    {
     "data": {
      "text/plain": [
       "array([[  5.87614052e+00,   4.82891689e+00,  -4.95545069e-01, ...,\n",
       "         -6.62646278e-04,  -4.43629806e-05,   6.57807142e-15],\n",
       "       [ -4.21983747e+00,   1.22621722e+00,  -1.88191211e+00, ...,\n",
       "         -2.11471782e-04,  -2.69154340e-04,  -3.66807279e-15],\n",
       "       [ -1.26084676e+00,   2.38766371e+00,  -7.31483440e-02, ...,\n",
       "          2.57750179e-04,  -2.05682324e-04,  -2.21567556e-15],\n",
       "       [ -4.92931983e+00,  -7.14858724e-01,  -1.58093026e+00, ...,\n",
       "         -1.98603886e-03,   9.92316312e-05,   4.87023616e-16],\n",
       "       [ -2.05311348e+00,   2.11095022e+00,   1.84807021e-01, ...,\n",
       "         -3.43415269e-04,  -1.32981672e-04,   4.10782519e-15]])"
      ]
     },
     "execution_count": 61,
     "metadata": {},
     "output_type": "execute_result"
    }
   ],
   "source": [
    "# Generate new features\n",
    "pc_data = pca.transform(item_scaled_data)\n",
    "\n",
    "# Display first 5 rows\n",
    "pc_data[:5]"
   ]
  },
  {
   "cell_type": "markdown",
   "metadata": {},
   "source": [
    "# 5. Explained variance\n",
    "\n",
    "PCA finds a sequence of principal components that try to explain as much variance as possible.\n",
    "\n",
    "PC1 would explain the most variance.\n",
    "PC2 would explain the 2nd-most variance.\n",
    "PC3 would explain the 3rd-most variance.\n",
    "And so on...\n",
    "\n",
    "**It's very helpful to calculate and plot the <u>cumulative</u> explained variance.**\n",
    "* This tells us the total amount of variance we'd capture if we kept up to the n-th component.\n",
    "* we'll calculate the cumulative explained variance.\n",
    "\n",
    "displaying the explained variance ratio for each of the principal components."
   ]
  },
  {
   "cell_type": "code",
   "execution_count": 64,
   "metadata": {},
   "outputs": [
    {
     "data": {
      "text/plain": [
       "1.0000000000000002"
      ]
     },
     "execution_count": 64,
     "metadata": {},
     "output_type": "execute_result"
    }
   ],
   "source": [
    "# Sum of explained variance ratio\n",
    "pca.explained_variance_ratio_.sum()"
   ]
  },
  {
   "cell_type": "markdown",
   "metadata": {},
   "source": [
    "Plotting our cumulative explained variance so we can see the least amount PC features we'd need to keep in order to capture most of the original variance."
   ]
  },
  {
   "cell_type": "code",
   "execution_count": 66,
   "metadata": {},
   "outputs": [
    {
     "data": {
      "text/plain": [
       "[<matplotlib.lines.Line2D at 0x1a21319710>]"
      ]
     },
     "execution_count": 66,
     "metadata": {},
     "output_type": "execute_result"
    },
    {
     "data": {
      "image/png": "[encoded data removed]",
      "text/plain": [
       "<matplotlib.figure.Figure at 0x1a21ac6390>"
      ]
     },
     "metadata": {},
     "output_type": "display_data"
    }
   ],
   "source": [
    "# Cumulative explained variance\n",
    "cumulative_explained_variance = np.cumsum(pca.explained_variance_ratio_)\n",
    "# Plot cumulative explained variance\n",
    "plt.plot(range(len(cumulative_explained_variance)), cumulative_explained_variance)"
   ]
  },
  {
   "cell_type": "markdown",
   "metadata": {},
   "source": [
    "We can read from this chart: To capture over 90% of the variance, we'd need to keep around 200 components."
   ]
  },
  {
   "cell_type": "code",
   "execution_count": 73,
   "metadata": {},
   "outputs": [
    {
     "data": {
      "text/plain": [
       "0.91544629459845883"
      ]
     },
     "execution_count": 73,
     "metadata": {},
     "output_type": "execute_result"
    }
   ],
   "source": [
    "# How much variance we'd capture with the first 200 components\n",
    "cumulative_explained_variance[200]"
   ]
  },
  {
   "cell_type": "markdown",
   "metadata": {},
   "source": [
    "**Initializing and fitting another PCA transformation.**\n",
    "* This time, we'll only keep 200 components.\n",
    "* Generate the principal component features from the fitted instance and name the new matrix <code style=\"color:crimson\">PC_items</code>."
   ]
  },
  {
   "cell_type": "code",
   "execution_count": 77,
   "metadata": {},
   "outputs": [
    {
     "data": {
      "text/plain": [
       "(414, 200)"
      ]
     },
     "execution_count": 77,
     "metadata": {},
     "output_type": "execute_result"
    }
   ],
   "source": [
    "# Initialize PCA transformation, only keeping 200 components\n",
    "pca = PCA(n_components=200)\n",
    "# Fit and transform item_data_scaled\n",
    "pca_items = pca.fit_transform(item_scaled_data)\n",
    "# Display shape of PCA_items to confirm there are 200 items\n",
    "pca_items.shape"
   ]
  },
  {
   "cell_type": "markdown",
   "metadata": {},
   "source": [
    "**For convenience we'll convert <code style=\"color:crimson\">PCA_items</code> into a new dataframe.**\n",
    "* We'll name the columns and update its index to be the same as the orginal <code style=\"color:crimson\">item_data</code>'s index."
   ]
  },
  {
   "cell_type": "code",
   "execution_count": 80,
   "metadata": {},
   "outputs": [
    {
     "data": {
      "text/html": [
       "<div>\n",
       "<style>\n",
       "    .dataframe thead tr:only-child th {\n",
       "        text-align: right;\n",
       "    }\n",
       "\n",
       "    .dataframe thead th {\n",
       "        text-align: left;\n",
       "    }\n",
       "\n",
       "    .dataframe tbody tr th {\n",
       "        vertical-align: top;\n",
       "    }\n",
       "</style>\n",
       "<table border=\"1\" class=\"dataframe\">\n",
       "  <thead>\n",
       "    <tr style=\"text-align: right;\">\n",
       "      <th></th>\n",
       "      <th>PC27</th>\n",
       "      <th>PC159</th>\n",
       "      <th>PC192</th>\n",
       "      <th>PC32</th>\n",
       "      <th>PC2</th>\n",
       "      <th>PC29</th>\n",
       "      <th>PC26</th>\n",
       "      <th>PC76</th>\n",
       "      <th>PC152</th>\n",
       "      <th>PC11</th>\n",
       "      <th>...</th>\n",
       "      <th>PC74</th>\n",
       "      <th>PC92</th>\n",
       "      <th>PC115</th>\n",
       "      <th>PC153</th>\n",
       "      <th>PC21</th>\n",
       "      <th>PC154</th>\n",
       "      <th>PC181</th>\n",
       "      <th>PC79</th>\n",
       "      <th>PC90</th>\n",
       "      <th>PC83</th>\n",
       "    </tr>\n",
       "    <tr>\n",
       "      <th>CustomerID</th>\n",
       "      <th></th>\n",
       "      <th></th>\n",
       "      <th></th>\n",
       "      <th></th>\n",
       "      <th></th>\n",
       "      <th></th>\n",
       "      <th></th>\n",
       "      <th></th>\n",
       "      <th></th>\n",
       "      <th></th>\n",
       "      <th></th>\n",
       "      <th></th>\n",
       "      <th></th>\n",
       "      <th></th>\n",
       "      <th></th>\n",
       "      <th></th>\n",
       "      <th></th>\n",
       "      <th></th>\n",
       "      <th></th>\n",
       "      <th></th>\n",
       "      <th></th>\n",
       "    </tr>\n",
       "  </thead>\n",
       "  <tbody>\n",
       "    <tr>\n",
       "      <th>12347</th>\n",
       "      <td>5.876140</td>\n",
       "      <td>4.828917</td>\n",
       "      <td>-0.495545</td>\n",
       "      <td>3.093850</td>\n",
       "      <td>-0.633706</td>\n",
       "      <td>-11.534090</td>\n",
       "      <td>2.161996</td>\n",
       "      <td>7.116958</td>\n",
       "      <td>5.336008</td>\n",
       "      <td>4.424413</td>\n",
       "      <td>...</td>\n",
       "      <td>0.285553</td>\n",
       "      <td>-0.036518</td>\n",
       "      <td>0.304538</td>\n",
       "      <td>0.066348</td>\n",
       "      <td>0.091724</td>\n",
       "      <td>0.081520</td>\n",
       "      <td>0.031085</td>\n",
       "      <td>-0.026535</td>\n",
       "      <td>0.348184</td>\n",
       "      <td>-0.175728</td>\n",
       "    </tr>\n",
       "    <tr>\n",
       "      <th>12348</th>\n",
       "      <td>-4.219837</td>\n",
       "      <td>1.226210</td>\n",
       "      <td>-1.881921</td>\n",
       "      <td>-0.174357</td>\n",
       "      <td>0.818016</td>\n",
       "      <td>1.160841</td>\n",
       "      <td>-0.871705</td>\n",
       "      <td>-0.846643</td>\n",
       "      <td>0.460261</td>\n",
       "      <td>0.854213</td>\n",
       "      <td>...</td>\n",
       "      <td>0.460968</td>\n",
       "      <td>-4.765365</td>\n",
       "      <td>0.181128</td>\n",
       "      <td>-0.060220</td>\n",
       "      <td>2.299782</td>\n",
       "      <td>0.318007</td>\n",
       "      <td>-4.587247</td>\n",
       "      <td>7.146414</td>\n",
       "      <td>-2.880113</td>\n",
       "      <td>-1.147965</td>\n",
       "    </tr>\n",
       "    <tr>\n",
       "      <th>12349</th>\n",
       "      <td>-1.260846</td>\n",
       "      <td>2.387661</td>\n",
       "      <td>-0.073149</td>\n",
       "      <td>-1.119164</td>\n",
       "      <td>-0.034330</td>\n",
       "      <td>-3.715382</td>\n",
       "      <td>-0.343606</td>\n",
       "      <td>-0.149039</td>\n",
       "      <td>-0.789982</td>\n",
       "      <td>-0.379266</td>\n",
       "      <td>...</td>\n",
       "      <td>-0.858036</td>\n",
       "      <td>3.032593</td>\n",
       "      <td>0.626667</td>\n",
       "      <td>-4.306286</td>\n",
       "      <td>-0.254076</td>\n",
       "      <td>-0.276820</td>\n",
       "      <td>-2.182513</td>\n",
       "      <td>2.463688</td>\n",
       "      <td>-0.178603</td>\n",
       "      <td>-0.136216</td>\n",
       "    </tr>\n",
       "    <tr>\n",
       "      <th>12350</th>\n",
       "      <td>-4.929320</td>\n",
       "      <td>-0.714861</td>\n",
       "      <td>-1.580931</td>\n",
       "      <td>-0.469759</td>\n",
       "      <td>-0.116283</td>\n",
       "      <td>0.647828</td>\n",
       "      <td>0.112902</td>\n",
       "      <td>-1.336310</td>\n",
       "      <td>1.547058</td>\n",
       "      <td>-1.190383</td>\n",
       "      <td>...</td>\n",
       "      <td>0.796385</td>\n",
       "      <td>0.850550</td>\n",
       "      <td>0.382694</td>\n",
       "      <td>-1.900388</td>\n",
       "      <td>0.025241</td>\n",
       "      <td>2.102687</td>\n",
       "      <td>0.208891</td>\n",
       "      <td>-1.107115</td>\n",
       "      <td>-1.130929</td>\n",
       "      <td>3.428857</td>\n",
       "    </tr>\n",
       "    <tr>\n",
       "      <th>12352</th>\n",
       "      <td>-2.053114</td>\n",
       "      <td>2.110949</td>\n",
       "      <td>0.184807</td>\n",
       "      <td>0.128238</td>\n",
       "      <td>0.087786</td>\n",
       "      <td>-1.943572</td>\n",
       "      <td>2.383302</td>\n",
       "      <td>0.899611</td>\n",
       "      <td>-0.671981</td>\n",
       "      <td>0.081432</td>\n",
       "      <td>...</td>\n",
       "      <td>1.952904</td>\n",
       "      <td>-0.335511</td>\n",
       "      <td>1.161181</td>\n",
       "      <td>-0.013836</td>\n",
       "      <td>1.580158</td>\n",
       "      <td>1.933953</td>\n",
       "      <td>-0.662787</td>\n",
       "      <td>1.746364</td>\n",
       "      <td>-0.679615</td>\n",
       "      <td>-0.423264</td>\n",
       "    </tr>\n",
       "  </tbody>\n",
       "</table>\n",
       "<p>5 rows × 200 columns</p>\n",
       "</div>"
      ],
      "text/plain": [
       "                PC27     PC159     PC192      PC32       PC2       PC29  \\\n",
       "CustomerID                                                                \n",
       "12347       5.876140  4.828917 -0.495545  3.093850 -0.633706 -11.534090   \n",
       "12348      -4.219837  1.226210 -1.881921 -0.174357  0.818016   1.160841   \n",
       "12349      -1.260846  2.387661 -0.073149 -1.119164 -0.034330  -3.715382   \n",
       "12350      -4.929320 -0.714861 -1.580931 -0.469759 -0.116283   0.647828   \n",
       "12352      -2.053114  2.110949  0.184807  0.128238  0.087786  -1.943572   \n",
       "\n",
       "                PC26      PC76     PC152      PC11    ...         PC74  \\\n",
       "CustomerID                                            ...                \n",
       "12347       2.161996  7.116958  5.336008  4.424413    ...     0.285553   \n",
       "12348      -0.871705 -0.846643  0.460261  0.854213    ...     0.460968   \n",
       "12349      -0.343606 -0.149039 -0.789982 -0.379266    ...    -0.858036   \n",
       "12350       0.112902 -1.336310  1.547058 -1.190383    ...     0.796385   \n",
       "12352       2.383302  0.899611 -0.671981  0.081432    ...     1.952904   \n",
       "\n",
       "                PC92     PC115     PC153      PC21     PC154     PC181  \\\n",
       "CustomerID                                                               \n",
       "12347      -0.036518  0.304538  0.066348  0.091724  0.081520  0.031085   \n",
       "12348      -4.765365  0.181128 -0.060220  2.299782  0.318007 -4.587247   \n",
       "12349       3.032593  0.626667 -4.306286 -0.254076 -0.276820 -2.182513   \n",
       "12350       0.850550  0.382694 -1.900388  0.025241  2.102687  0.208891   \n",
       "12352      -0.335511  1.161181 -0.013836  1.580158  1.933953 -0.662787   \n",
       "\n",
       "                PC79      PC90      PC83  \n",
       "CustomerID                                \n",
       "12347      -0.026535  0.348184 -0.175728  \n",
       "12348       7.146414 -2.880113 -1.147965  \n",
       "12349       2.463688 -0.178603 -0.136216  \n",
       "12350      -1.107115 -1.130929  3.428857  \n",
       "12352       1.746364 -0.679615 -0.423264  \n",
       "\n",
       "[5 rows x 200 columns]"
      ]
     },
     "execution_count": 80,
     "metadata": {},
     "output_type": "execute_result"
    }
   ],
   "source": [
    "# Put PCA_items into a dataframe\n",
    "items_pca = pd.DataFrame(pca_items, index =item_data.index )\n",
    "# Name the columns\n",
    "items_pca.columns = {'PC{}'.format(i+1) for i in range(pca_items.shape[1])}\n",
    "# Display first 5 rows\n",
    "items_pca.head()"
   ]
  },
  {
   "cell_type": "markdown",
   "metadata": {},
   "source": [
    "Now we have a dataframe of 200 customer-level principal component features.\n",
    "Generated from the 200 principal components that explained the most variance for the original features.\n",
    "- The index of this PCA item dataframe contains CustomerID's, which will make it possible for us to join this to our analytical base table from Step 1.\n",
    "\n",
    "**Saving this item dataframe with PCA features as <code style=\"color:crimson\">'pca_item_data.csv'</code>.**\n",
    "* We will **not** set <code style=\"color:steelblue\">index=None</code> because we want to keep the CustomerID's as the index."
   ]
  },
  {
   "cell_type": "code",
   "execution_count": 82,
   "metadata": {
    "collapsed": true
   },
   "outputs": [],
   "source": [
    "# Save pca_item_data.csv\n",
    "items_pca.to_csv('pca_item_data.csv')"
   ]
  },
  {
   "cell_type": "markdown",
   "metadata": {},
   "source": [
    "Essential steps:\n",
    "* how PCA works on an oval blob.\n",
    "* Contrast plots of the original features against principal component features.\n",
    "* Intepret cumulative explained variance.\n",
    "* Reduce the dimensionality of the item dataset using PCA."
   ]
  },
  {
   "cell_type": "code",
   "execution_count": null,
   "metadata": {
    "collapsed": true
   },
   "outputs": [],
   "source": []
  }
 ],
 "metadata": {
  "kernelspec": {
   "display_name": "Python 3",
   "language": "python",
   "name": "python3"
  },
  "language_info": {
   "codemirror_mode": {
    "name": "ipython",
    "version": 3
   },
   "file_extension": ".py",
   "mimetype": "text/x-python",
   "name": "python",
   "nbconvert_exporter": "python",
   "pygments_lexer": "ipython3",
   "version": "3.6.4"
  }
 },
 "nbformat": 4,
 "nbformat_minor": 1
}
