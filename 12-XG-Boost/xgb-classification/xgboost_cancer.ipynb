{
 "cells": [
  {
   "cell_type": "markdown",
   "metadata": {
    "collapsed": true
   },
   "source": [
    "# Applying XG_boost to wisconsin breast cancer dataset"
   ]
  },
  {
   "cell_type": "code",
   "execution_count": 75,
   "metadata": {
    "collapsed": true
   },
   "outputs": [],
   "source": [
    "import pandas as pd\n",
    "import numpy as np\n",
    "import matplotlib.pyplot as plt\n",
    "%matplotlib inline\n",
    "import seaborn as sns"
   ]
  },
  {
   "cell_type": "code",
   "execution_count": 76,
   "metadata": {},
   "outputs": [
    {
     "name": "stdout",
     "output_type": "stream",
     "text": [
      "(569, 33)\n",
      "(569, 33)\n",
      "<class 'pandas.core.frame.DataFrame'>\n",
      "RangeIndex: 569 entries, 0 to 568\n",
      "Data columns (total 33 columns):\n",
      "id                         569 non-null int64\n",
      "diagnosis                  569 non-null object\n",
      "radius_mean                569 non-null float64\n",
      "texture_mean               569 non-null float64\n",
      "perimeter_mean             569 non-null float64\n",
      "area_mean                  569 non-null float64\n",
      "smoothness_mean            569 non-null float64\n",
      "compactness_mean           569 non-null float64\n",
      "concavity_mean             569 non-null float64\n",
      "concave points_mean        569 non-null float64\n",
      "symmetry_mean              569 non-null float64\n",
      "fractal_dimension_mean     569 non-null float64\n",
      "radius_se                  569 non-null float64\n",
      "texture_se                 569 non-null float64\n",
      "perimeter_se               569 non-null float64\n",
      "area_se                    569 non-null float64\n",
      "smoothness_se              569 non-null float64\n",
      "compactness_se             569 non-null float64\n",
      "concavity_se               569 non-null float64\n",
      "concave points_se          569 non-null float64\n",
      "symmetry_se                569 non-null float64\n",
      "fractal_dimension_se       569 non-null float64\n",
      "radius_worst               569 non-null float64\n",
      "texture_worst              569 non-null float64\n",
      "perimeter_worst            569 non-null float64\n",
      "area_worst                 569 non-null float64\n",
      "smoothness_worst           569 non-null float64\n",
      "compactness_worst          569 non-null float64\n",
      "concavity_worst            569 non-null float64\n",
      "concave points_worst       569 non-null float64\n",
      "symmetry_worst             569 non-null float64\n",
      "fractal_dimension_worst    569 non-null float64\n",
      "Unnamed: 32                0 non-null float64\n",
      "dtypes: float64(31), int64(1), object(1)\n",
      "memory usage: 146.8+ KB\n"
     ]
    }
   ],
   "source": [
    "# load data\n",
    "dataset = pd.read_csv('breast-cancer.csv', delimiter=\",\")\n",
    "print(dataset.shape)\n",
    "dataset.drop_duplicates()\n",
    "print(dataset.shape)\n",
    "dataset.info()"
   ]
  },
  {
   "cell_type": "markdown",
   "metadata": {},
   "source": [
    "All of our data is numerical, except for diagnosis"
   ]
  },
  {
   "cell_type": "code",
   "execution_count": 77,
   "metadata": {},
   "outputs": [
    {
     "name": "stderr",
     "output_type": "stream",
     "text": [
      "Exception ignored in: <bound method DMatrix.__del__ of <xgboost.core.DMatrix object at 0x11d6ffd30>>\n",
      "Traceback (most recent call last):\n",
      "  File \"/anaconda3/lib/python3.6/site-packages/xgboost/core.py\", line 368, in __del__\n",
      "    if self.handle is not None:\n",
      "AttributeError: 'DMatrix' object has no attribute 'handle'\n",
      "Exception ignored in: <bound method DMatrix.__del__ of <xgboost.core.DMatrix object at 0x11d96d9e8>>\n",
      "Traceback (most recent call last):\n",
      "  File \"/anaconda3/lib/python3.6/site-packages/xgboost/core.py\", line 368, in __del__\n",
      "    if self.handle is not None:\n",
      "AttributeError: 'DMatrix' object has no attribute 'handle'\n"
     ]
    },
    {
     "data": {
      "text/html": [
       "<div>\n",
       "<style>\n",
       "    .dataframe thead tr:only-child th {\n",
       "        text-align: right;\n",
       "    }\n",
       "\n",
       "    .dataframe thead th {\n",
       "        text-align: left;\n",
       "    }\n",
       "\n",
       "    .dataframe tbody tr th {\n",
       "        vertical-align: top;\n",
       "    }\n",
       "</style>\n",
       "<table border=\"1\" class=\"dataframe\">\n",
       "  <thead>\n",
       "    <tr style=\"text-align: right;\">\n",
       "      <th></th>\n",
       "      <th>id</th>\n",
       "      <th>diagnosis</th>\n",
       "      <th>radius_mean</th>\n",
       "      <th>texture_mean</th>\n",
       "      <th>perimeter_mean</th>\n",
       "      <th>area_mean</th>\n",
       "      <th>smoothness_mean</th>\n",
       "      <th>compactness_mean</th>\n",
       "      <th>concavity_mean</th>\n",
       "      <th>concave points_mean</th>\n",
       "      <th>...</th>\n",
       "      <th>texture_worst</th>\n",
       "      <th>perimeter_worst</th>\n",
       "      <th>area_worst</th>\n",
       "      <th>smoothness_worst</th>\n",
       "      <th>compactness_worst</th>\n",
       "      <th>concavity_worst</th>\n",
       "      <th>concave points_worst</th>\n",
       "      <th>symmetry_worst</th>\n",
       "      <th>fractal_dimension_worst</th>\n",
       "      <th>Unnamed: 32</th>\n",
       "    </tr>\n",
       "  </thead>\n",
       "  <tbody>\n",
       "    <tr>\n",
       "      <th>0</th>\n",
       "      <td>842302</td>\n",
       "      <td>M</td>\n",
       "      <td>17.99</td>\n",
       "      <td>10.38</td>\n",
       "      <td>122.80</td>\n",
       "      <td>1001.0</td>\n",
       "      <td>0.11840</td>\n",
       "      <td>0.27760</td>\n",
       "      <td>0.3001</td>\n",
       "      <td>0.14710</td>\n",
       "      <td>...</td>\n",
       "      <td>17.33</td>\n",
       "      <td>184.60</td>\n",
       "      <td>2019.0</td>\n",
       "      <td>0.1622</td>\n",
       "      <td>0.6656</td>\n",
       "      <td>0.7119</td>\n",
       "      <td>0.2654</td>\n",
       "      <td>0.4601</td>\n",
       "      <td>0.11890</td>\n",
       "      <td>NaN</td>\n",
       "    </tr>\n",
       "    <tr>\n",
       "      <th>1</th>\n",
       "      <td>842517</td>\n",
       "      <td>M</td>\n",
       "      <td>20.57</td>\n",
       "      <td>17.77</td>\n",
       "      <td>132.90</td>\n",
       "      <td>1326.0</td>\n",
       "      <td>0.08474</td>\n",
       "      <td>0.07864</td>\n",
       "      <td>0.0869</td>\n",
       "      <td>0.07017</td>\n",
       "      <td>...</td>\n",
       "      <td>23.41</td>\n",
       "      <td>158.80</td>\n",
       "      <td>1956.0</td>\n",
       "      <td>0.1238</td>\n",
       "      <td>0.1866</td>\n",
       "      <td>0.2416</td>\n",
       "      <td>0.1860</td>\n",
       "      <td>0.2750</td>\n",
       "      <td>0.08902</td>\n",
       "      <td>NaN</td>\n",
       "    </tr>\n",
       "    <tr>\n",
       "      <th>2</th>\n",
       "      <td>84300903</td>\n",
       "      <td>M</td>\n",
       "      <td>19.69</td>\n",
       "      <td>21.25</td>\n",
       "      <td>130.00</td>\n",
       "      <td>1203.0</td>\n",
       "      <td>0.10960</td>\n",
       "      <td>0.15990</td>\n",
       "      <td>0.1974</td>\n",
       "      <td>0.12790</td>\n",
       "      <td>...</td>\n",
       "      <td>25.53</td>\n",
       "      <td>152.50</td>\n",
       "      <td>1709.0</td>\n",
       "      <td>0.1444</td>\n",
       "      <td>0.4245</td>\n",
       "      <td>0.4504</td>\n",
       "      <td>0.2430</td>\n",
       "      <td>0.3613</td>\n",
       "      <td>0.08758</td>\n",
       "      <td>NaN</td>\n",
       "    </tr>\n",
       "    <tr>\n",
       "      <th>3</th>\n",
       "      <td>84348301</td>\n",
       "      <td>M</td>\n",
       "      <td>11.42</td>\n",
       "      <td>20.38</td>\n",
       "      <td>77.58</td>\n",
       "      <td>386.1</td>\n",
       "      <td>0.14250</td>\n",
       "      <td>0.28390</td>\n",
       "      <td>0.2414</td>\n",
       "      <td>0.10520</td>\n",
       "      <td>...</td>\n",
       "      <td>26.50</td>\n",
       "      <td>98.87</td>\n",
       "      <td>567.7</td>\n",
       "      <td>0.2098</td>\n",
       "      <td>0.8663</td>\n",
       "      <td>0.6869</td>\n",
       "      <td>0.2575</td>\n",
       "      <td>0.6638</td>\n",
       "      <td>0.17300</td>\n",
       "      <td>NaN</td>\n",
       "    </tr>\n",
       "    <tr>\n",
       "      <th>4</th>\n",
       "      <td>84358402</td>\n",
       "      <td>M</td>\n",
       "      <td>20.29</td>\n",
       "      <td>14.34</td>\n",
       "      <td>135.10</td>\n",
       "      <td>1297.0</td>\n",
       "      <td>0.10030</td>\n",
       "      <td>0.13280</td>\n",
       "      <td>0.1980</td>\n",
       "      <td>0.10430</td>\n",
       "      <td>...</td>\n",
       "      <td>16.67</td>\n",
       "      <td>152.20</td>\n",
       "      <td>1575.0</td>\n",
       "      <td>0.1374</td>\n",
       "      <td>0.2050</td>\n",
       "      <td>0.4000</td>\n",
       "      <td>0.1625</td>\n",
       "      <td>0.2364</td>\n",
       "      <td>0.07678</td>\n",
       "      <td>NaN</td>\n",
       "    </tr>\n",
       "  </tbody>\n",
       "</table>\n",
       "<p>5 rows × 33 columns</p>\n",
       "</div>"
      ],
      "text/plain": [
       "         id diagnosis  radius_mean  texture_mean  perimeter_mean  area_mean  \\\n",
       "0    842302         M        17.99         10.38          122.80     1001.0   \n",
       "1    842517         M        20.57         17.77          132.90     1326.0   \n",
       "2  84300903         M        19.69         21.25          130.00     1203.0   \n",
       "3  84348301         M        11.42         20.38           77.58      386.1   \n",
       "4  84358402         M        20.29         14.34          135.10     1297.0   \n",
       "\n",
       "   smoothness_mean  compactness_mean  concavity_mean  concave points_mean  \\\n",
       "0          0.11840           0.27760          0.3001              0.14710   \n",
       "1          0.08474           0.07864          0.0869              0.07017   \n",
       "2          0.10960           0.15990          0.1974              0.12790   \n",
       "3          0.14250           0.28390          0.2414              0.10520   \n",
       "4          0.10030           0.13280          0.1980              0.10430   \n",
       "\n",
       "      ...       texture_worst  perimeter_worst  area_worst  smoothness_worst  \\\n",
       "0     ...               17.33           184.60      2019.0            0.1622   \n",
       "1     ...               23.41           158.80      1956.0            0.1238   \n",
       "2     ...               25.53           152.50      1709.0            0.1444   \n",
       "3     ...               26.50            98.87       567.7            0.2098   \n",
       "4     ...               16.67           152.20      1575.0            0.1374   \n",
       "\n",
       "   compactness_worst  concavity_worst  concave points_worst  symmetry_worst  \\\n",
       "0             0.6656           0.7119                0.2654          0.4601   \n",
       "1             0.1866           0.2416                0.1860          0.2750   \n",
       "2             0.4245           0.4504                0.2430          0.3613   \n",
       "3             0.8663           0.6869                0.2575          0.6638   \n",
       "4             0.2050           0.4000                0.1625          0.2364   \n",
       "\n",
       "   fractal_dimension_worst  Unnamed: 32  \n",
       "0                  0.11890          NaN  \n",
       "1                  0.08902          NaN  \n",
       "2                  0.08758          NaN  \n",
       "3                  0.17300          NaN  \n",
       "4                  0.07678          NaN  \n",
       "\n",
       "[5 rows x 33 columns]"
      ]
     },
     "execution_count": 77,
     "metadata": {},
     "output_type": "execute_result"
    }
   ],
   "source": [
    "#displaying data set\n",
    "dataset.head()"
   ]
  },
  {
   "cell_type": "code",
   "execution_count": 78,
   "metadata": {
    "collapsed": true
   },
   "outputs": [],
   "source": [
    "#split dataset into x and y\n",
    "X = dataset.drop(['id','Unnamed: 32','diagnosis'], axis=1)\n",
    "y = dataset['diagnosis']"
   ]
  },
  {
   "cell_type": "code",
   "execution_count": 79,
   "metadata": {},
   "outputs": [
    {
     "data": {
      "text/plain": [
       "id                           0\n",
       "diagnosis                    0\n",
       "radius_mean                  0\n",
       "texture_mean                 0\n",
       "perimeter_mean               0\n",
       "area_mean                    0\n",
       "smoothness_mean              0\n",
       "compactness_mean             0\n",
       "concavity_mean               0\n",
       "concave points_mean          0\n",
       "symmetry_mean                0\n",
       "fractal_dimension_mean       0\n",
       "radius_se                    0\n",
       "texture_se                   0\n",
       "perimeter_se                 0\n",
       "area_se                      0\n",
       "smoothness_se                0\n",
       "compactness_se               0\n",
       "concavity_se                 0\n",
       "concave points_se            0\n",
       "symmetry_se                  0\n",
       "fractal_dimension_se         0\n",
       "radius_worst                 0\n",
       "texture_worst                0\n",
       "perimeter_worst              0\n",
       "area_worst                   0\n",
       "smoothness_worst             0\n",
       "compactness_worst            0\n",
       "concavity_worst              0\n",
       "concave points_worst         0\n",
       "symmetry_worst               0\n",
       "fractal_dimension_worst      0\n",
       "Unnamed: 32                569\n",
       "dtype: int64"
      ]
     },
     "execution_count": 79,
     "metadata": {},
     "output_type": "execute_result"
    }
   ],
   "source": [
    "# check for missing values\n",
    "# Display number of missing values by feature\n",
    "dataset.isnull().sum()"
   ]
  },
  {
   "cell_type": "code",
   "execution_count": 80,
   "metadata": {
    "collapsed": true
   },
   "outputs": [],
   "source": [
    "# encode our diagnosis class values as integers\n",
    "from sklearn.preprocessing import LabelEncoder\n",
    "label_encoder = LabelEncoder()\n",
    "label_encoder = label_encoder.fit(y)\n",
    "encoded_y = label_encoder.transform(y)"
   ]
  },
  {
   "cell_type": "code",
   "execution_count": 97,
   "metadata": {},
   "outputs": [
    {
     "name": "stdout",
     "output_type": "stream",
     "text": [
      "\u001b[H\u001b[2J"
     ]
    },
    {
     "data": {
      "image/png": "[encoded data removed]",
      "text/plain": [
       "<matplotlib.figure.Figure at 0x11d0329b0>"
      ]
     },
     "metadata": {},
     "output_type": "display_data"
    }
   ],
   "source": [
    "# check proportion of pos/neg diagnosis\n",
    "sns.countplot(y='diagnosis', data=dataset)\n",
    "%clear"
   ]
  },
  {
   "cell_type": "code",
   "execution_count": 81,
   "metadata": {
    "collapsed": true
   },
   "outputs": [],
   "source": [
    "#train test split\n",
    "from sklearn.model_selection import train_test_split\n",
    "X_train, X_test, y_train, y_test = train_test_split(X, encoded_y, test_size=0.25)"
   ]
  },
  {
   "cell_type": "code",
   "execution_count": 99,
   "metadata": {},
   "outputs": [
    {
     "name": "stdout",
     "output_type": "stream",
     "text": [
      "[0]\tvalidation_0-error:0.021127\tvalidation_0-logloss:0.60874\tvalidation_1-error:0.062937\tvalidation_1-logloss:0.615776\n",
      "[1]\tvalidation_0-error:0.018779\tvalidation_0-logloss:0.538757\tvalidation_1-error:0.062937\tvalidation_1-logloss:0.552196\n",
      "[2]\tvalidation_0-error:0.018779\tvalidation_0-logloss:0.481976\tvalidation_1-error:0.055944\tvalidation_1-logloss:0.498117\n",
      "[3]\tvalidation_0-error:0.016432\tvalidation_0-logloss:0.432696\tvalidation_1-error:0.062937\tvalidation_1-logloss:0.45313\n",
      "[4]\tvalidation_0-error:0.016432\tvalidation_0-logloss:0.389736\tvalidation_1-error:0.055944\tvalidation_1-logloss:0.41434\n",
      "[5]\tvalidation_0-error:0.016432\tvalidation_0-logloss:0.351077\tvalidation_1-error:0.048951\tvalidation_1-logloss:0.379695\n",
      "[6]\tvalidation_0-error:0.014085\tvalidation_0-logloss:0.31841\tvalidation_1-error:0.048951\tvalidation_1-logloss:0.351099\n",
      "[7]\tvalidation_0-error:0.014085\tvalidation_0-logloss:0.288947\tvalidation_1-error:0.048951\tvalidation_1-logloss:0.325223\n",
      "[8]\tvalidation_0-error:0.014085\tvalidation_0-logloss:0.264167\tvalidation_1-error:0.048951\tvalidation_1-logloss:0.301878\n",
      "[9]\tvalidation_0-error:0.014085\tvalidation_0-logloss:0.241189\tvalidation_1-error:0.048951\tvalidation_1-logloss:0.281356\n",
      "[10]\tvalidation_0-error:0.011737\tvalidation_0-logloss:0.220917\tvalidation_1-error:0.048951\tvalidation_1-logloss:0.262113\n",
      "[11]\tvalidation_0-error:0.014085\tvalidation_0-logloss:0.20272\tvalidation_1-error:0.048951\tvalidation_1-logloss:0.246674\n",
      "[12]\tvalidation_0-error:0.014085\tvalidation_0-logloss:0.187151\tvalidation_1-error:0.048951\tvalidation_1-logloss:0.233463\n",
      "[13]\tvalidation_0-error:0.014085\tvalidation_0-logloss:0.172427\tvalidation_1-error:0.048951\tvalidation_1-logloss:0.220279\n",
      "[14]\tvalidation_0-error:0.011737\tvalidation_0-logloss:0.159332\tvalidation_1-error:0.041958\tvalidation_1-logloss:0.208884\n",
      "[15]\tvalidation_0-error:0.014085\tvalidation_0-logloss:0.148172\tvalidation_1-error:0.048951\tvalidation_1-logloss:0.199259\n",
      "[16]\tvalidation_0-error:0.00939\tvalidation_0-logloss:0.137642\tvalidation_1-error:0.048951\tvalidation_1-logloss:0.19152\n",
      "[17]\tvalidation_0-error:0.007042\tvalidation_0-logloss:0.128056\tvalidation_1-error:0.041958\tvalidation_1-logloss:0.183256\n",
      "[18]\tvalidation_0-error:0.004695\tvalidation_0-logloss:0.11914\tvalidation_1-error:0.048951\tvalidation_1-logloss:0.177508\n",
      "[19]\tvalidation_0-error:0.004695\tvalidation_0-logloss:0.111158\tvalidation_1-error:0.048951\tvalidation_1-logloss:0.170519\n",
      "[20]\tvalidation_0-error:0.004695\tvalidation_0-logloss:0.104293\tvalidation_1-error:0.048951\tvalidation_1-logloss:0.166454\n",
      "[21]\tvalidation_0-error:0.004695\tvalidation_0-logloss:0.097937\tvalidation_1-error:0.048951\tvalidation_1-logloss:0.162503\n",
      "[22]\tvalidation_0-error:0.004695\tvalidation_0-logloss:0.091966\tvalidation_1-error:0.048951\tvalidation_1-logloss:0.157324\n",
      "[23]\tvalidation_0-error:0.004695\tvalidation_0-logloss:0.086389\tvalidation_1-error:0.048951\tvalidation_1-logloss:0.153927\n",
      "[24]\tvalidation_0-error:0.004695\tvalidation_0-logloss:0.081574\tvalidation_1-error:0.048951\tvalidation_1-logloss:0.149307\n",
      "[25]\tvalidation_0-error:0.004695\tvalidation_0-logloss:0.076954\tvalidation_1-error:0.048951\tvalidation_1-logloss:0.14583\n",
      "[26]\tvalidation_0-error:0.004695\tvalidation_0-logloss:0.073013\tvalidation_1-error:0.048951\tvalidation_1-logloss:0.144086\n",
      "[27]\tvalidation_0-error:0.004695\tvalidation_0-logloss:0.069237\tvalidation_1-error:0.048951\tvalidation_1-logloss:0.140672\n",
      "[28]\tvalidation_0-error:0.004695\tvalidation_0-logloss:0.065529\tvalidation_1-error:0.048951\tvalidation_1-logloss:0.136484\n",
      "[29]\tvalidation_0-error:0.004695\tvalidation_0-logloss:0.062227\tvalidation_1-error:0.041958\tvalidation_1-logloss:0.134842\n",
      "[30]\tvalidation_0-error:0.004695\tvalidation_0-logloss:0.059174\tvalidation_1-error:0.041958\tvalidation_1-logloss:0.131363\n",
      "[31]\tvalidation_0-error:0.004695\tvalidation_0-logloss:0.056477\tvalidation_1-error:0.041958\tvalidation_1-logloss:0.130541\n",
      "[32]\tvalidation_0-error:0.004695\tvalidation_0-logloss:0.053466\tvalidation_1-error:0.034965\tvalidation_1-logloss:0.128211\n",
      "[33]\tvalidation_0-error:0.004695\tvalidation_0-logloss:0.050814\tvalidation_1-error:0.034965\tvalidation_1-logloss:0.126297\n",
      "[34]\tvalidation_0-error:0.004695\tvalidation_0-logloss:0.048642\tvalidation_1-error:0.034965\tvalidation_1-logloss:0.124198\n",
      "[35]\tvalidation_0-error:0.004695\tvalidation_0-logloss:0.046752\tvalidation_1-error:0.027972\tvalidation_1-logloss:0.122853\n",
      "[36]\tvalidation_0-error:0.004695\tvalidation_0-logloss:0.044721\tvalidation_1-error:0.027972\tvalidation_1-logloss:0.122279\n",
      "[37]\tvalidation_0-error:0.004695\tvalidation_0-logloss:0.042693\tvalidation_1-error:0.027972\tvalidation_1-logloss:0.120913\n",
      "[38]\tvalidation_0-error:0.004695\tvalidation_0-logloss:0.040891\tvalidation_1-error:0.027972\tvalidation_1-logloss:0.119931\n",
      "[39]\tvalidation_0-error:0.004695\tvalidation_0-logloss:0.039321\tvalidation_1-error:0.027972\tvalidation_1-logloss:0.117291\n",
      "[40]\tvalidation_0-error:0.004695\tvalidation_0-logloss:0.037994\tvalidation_1-error:0.027972\tvalidation_1-logloss:0.116501\n",
      "[41]\tvalidation_0-error:0.004695\tvalidation_0-logloss:0.03651\tvalidation_1-error:0.027972\tvalidation_1-logloss:0.115834\n",
      "[42]\tvalidation_0-error:0.004695\tvalidation_0-logloss:0.0352\tvalidation_1-error:0.027972\tvalidation_1-logloss:0.114795\n",
      "[43]\tvalidation_0-error:0.004695\tvalidation_0-logloss:0.034004\tvalidation_1-error:0.027972\tvalidation_1-logloss:0.113213\n",
      "[44]\tvalidation_0-error:0.004695\tvalidation_0-logloss:0.032778\tvalidation_1-error:0.027972\tvalidation_1-logloss:0.112742\n",
      "[45]\tvalidation_0-error:0.004695\tvalidation_0-logloss:0.031631\tvalidation_1-error:0.027972\tvalidation_1-logloss:0.111177\n",
      "[46]\tvalidation_0-error:0.004695\tvalidation_0-logloss:0.030638\tvalidation_1-error:0.027972\tvalidation_1-logloss:0.109748\n",
      "[47]\tvalidation_0-error:0.004695\tvalidation_0-logloss:0.029658\tvalidation_1-error:0.027972\tvalidation_1-logloss:0.107915\n",
      "[48]\tvalidation_0-error:0.004695\tvalidation_0-logloss:0.028673\tvalidation_1-error:0.027972\tvalidation_1-logloss:0.108338\n",
      "[49]\tvalidation_0-error:0.004695\tvalidation_0-logloss:0.02771\tvalidation_1-error:0.027972\tvalidation_1-logloss:0.108485\n",
      "[50]\tvalidation_0-error:0.004695\tvalidation_0-logloss:0.026787\tvalidation_1-error:0.027972\tvalidation_1-logloss:0.108428\n",
      "[51]\tvalidation_0-error:0.004695\tvalidation_0-logloss:0.026062\tvalidation_1-error:0.027972\tvalidation_1-logloss:0.108318\n",
      "[52]\tvalidation_0-error:0.004695\tvalidation_0-logloss:0.025263\tvalidation_1-error:0.027972\tvalidation_1-logloss:0.108233\n",
      "[53]\tvalidation_0-error:0.002347\tvalidation_0-logloss:0.024714\tvalidation_1-error:0.027972\tvalidation_1-logloss:0.107197\n",
      "[54]\tvalidation_0-error:0.002347\tvalidation_0-logloss:0.024024\tvalidation_1-error:0.027972\tvalidation_1-logloss:0.107063\n",
      "[55]\tvalidation_0-error:0.002347\tvalidation_0-logloss:0.023362\tvalidation_1-error:0.027972\tvalidation_1-logloss:0.106917\n",
      "[56]\tvalidation_0-error:0.002347\tvalidation_0-logloss:0.022894\tvalidation_1-error:0.027972\tvalidation_1-logloss:0.105912\n",
      "[57]\tvalidation_0-error:0.002347\tvalidation_0-logloss:0.022268\tvalidation_1-error:0.027972\tvalidation_1-logloss:0.106545\n",
      "[58]\tvalidation_0-error:0.002347\tvalidation_0-logloss:0.021707\tvalidation_1-error:0.027972\tvalidation_1-logloss:0.10645\n",
      "[59]\tvalidation_0-error:0.002347\tvalidation_0-logloss:0.02118\tvalidation_1-error:0.027972\tvalidation_1-logloss:0.106143\n",
      "[60]\tvalidation_0-error:0.002347\tvalidation_0-logloss:0.020742\tvalidation_1-error:0.027972\tvalidation_1-logloss:0.10592\n",
      "[61]\tvalidation_0-error:0.002347\tvalidation_0-logloss:0.020269\tvalidation_1-error:0.027972\tvalidation_1-logloss:0.106717\n",
      "[62]\tvalidation_0-error:0.002347\tvalidation_0-logloss:0.01968\tvalidation_1-error:0.027972\tvalidation_1-logloss:0.104643\n",
      "[63]\tvalidation_0-error:0.002347\tvalidation_0-logloss:0.01933\tvalidation_1-error:0.027972\tvalidation_1-logloss:0.104378\n",
      "[64]\tvalidation_0-error:0.002347\tvalidation_0-logloss:0.018902\tvalidation_1-error:0.020979\tvalidation_1-logloss:0.10369\n",
      "[65]\tvalidation_0-error:0.002347\tvalidation_0-logloss:0.018568\tvalidation_1-error:0.020979\tvalidation_1-logloss:0.104561\n",
      "[66]\tvalidation_0-error:0.002347\tvalidation_0-logloss:0.018069\tvalidation_1-error:0.020979\tvalidation_1-logloss:0.102691\n",
      "[67]\tvalidation_0-error:0.002347\tvalidation_0-logloss:0.017662\tvalidation_1-error:0.020979\tvalidation_1-logloss:0.102564\n"
     ]
    },
    {
     "name": "stdout",
     "output_type": "stream",
     "text": [
      "[68]\tvalidation_0-error:0.002347\tvalidation_0-logloss:0.017328\tvalidation_1-error:0.020979\tvalidation_1-logloss:0.102511\n",
      "[69]\tvalidation_0-error:0.002347\tvalidation_0-logloss:0.017004\tvalidation_1-error:0.020979\tvalidation_1-logloss:0.102658\n",
      "[70]\tvalidation_0-error:0.002347\tvalidation_0-logloss:0.016659\tvalidation_1-error:0.020979\tvalidation_1-logloss:0.102894\n",
      "[71]\tvalidation_0-error:0\tvalidation_0-logloss:0.016326\tvalidation_1-error:0.020979\tvalidation_1-logloss:0.101929\n",
      "[72]\tvalidation_0-error:0\tvalidation_0-logloss:0.016006\tvalidation_1-error:0.020979\tvalidation_1-logloss:0.103027\n",
      "[73]\tvalidation_0-error:0\tvalidation_0-logloss:0.015676\tvalidation_1-error:0.020979\tvalidation_1-logloss:0.102716\n",
      "[74]\tvalidation_0-error:0\tvalidation_0-logloss:0.015394\tvalidation_1-error:0.020979\tvalidation_1-logloss:0.102662\n",
      "[75]\tvalidation_0-error:0\tvalidation_0-logloss:0.015148\tvalidation_1-error:0.020979\tvalidation_1-logloss:0.102389\n",
      "[76]\tvalidation_0-error:0\tvalidation_0-logloss:0.014928\tvalidation_1-error:0.020979\tvalidation_1-logloss:0.102372\n",
      "[77]\tvalidation_0-error:0\tvalidation_0-logloss:0.014643\tvalidation_1-error:0.020979\tvalidation_1-logloss:0.102238\n",
      "[78]\tvalidation_0-error:0\tvalidation_0-logloss:0.014468\tvalidation_1-error:0.020979\tvalidation_1-logloss:0.101906\n",
      "[79]\tvalidation_0-error:0\tvalidation_0-logloss:0.014256\tvalidation_1-error:0.020979\tvalidation_1-logloss:0.102747\n",
      "[80]\tvalidation_0-error:0\tvalidation_0-logloss:0.014105\tvalidation_1-error:0.020979\tvalidation_1-logloss:0.102301\n",
      "[81]\tvalidation_0-error:0\tvalidation_0-logloss:0.013835\tvalidation_1-error:0.020979\tvalidation_1-logloss:0.102293\n",
      "[82]\tvalidation_0-error:0\tvalidation_0-logloss:0.013658\tvalidation_1-error:0.020979\tvalidation_1-logloss:0.10258\n",
      "[83]\tvalidation_0-error:0\tvalidation_0-logloss:0.013461\tvalidation_1-error:0.020979\tvalidation_1-logloss:0.102547\n",
      "[84]\tvalidation_0-error:0\tvalidation_0-logloss:0.013266\tvalidation_1-error:0.020979\tvalidation_1-logloss:0.102608\n",
      "[85]\tvalidation_0-error:0\tvalidation_0-logloss:0.013139\tvalidation_1-error:0.020979\tvalidation_1-logloss:0.102246\n",
      "[86]\tvalidation_0-error:0\tvalidation_0-logloss:0.012911\tvalidation_1-error:0.020979\tvalidation_1-logloss:0.101999\n",
      "[87]\tvalidation_0-error:0\tvalidation_0-logloss:0.01275\tvalidation_1-error:0.020979\tvalidation_1-logloss:0.101615\n",
      "[88]\tvalidation_0-error:0\tvalidation_0-logloss:0.012627\tvalidation_1-error:0.020979\tvalidation_1-logloss:0.101242\n",
      "[89]\tvalidation_0-error:0\tvalidation_0-logloss:0.012434\tvalidation_1-error:0.020979\tvalidation_1-logloss:0.101052\n",
      "[90]\tvalidation_0-error:0\tvalidation_0-logloss:0.012294\tvalidation_1-error:0.020979\tvalidation_1-logloss:0.101489\n",
      "[91]\tvalidation_0-error:0\tvalidation_0-logloss:0.012185\tvalidation_1-error:0.027972\tvalidation_1-logloss:0.101174\n",
      "[92]\tvalidation_0-error:0\tvalidation_0-logloss:0.012024\tvalidation_1-error:0.020979\tvalidation_1-logloss:0.100482\n",
      "[93]\tvalidation_0-error:0\tvalidation_0-logloss:0.011885\tvalidation_1-error:0.020979\tvalidation_1-logloss:0.100618\n",
      "[94]\tvalidation_0-error:0\tvalidation_0-logloss:0.011763\tvalidation_1-error:0.027972\tvalidation_1-logloss:0.101071\n",
      "[95]\tvalidation_0-error:0\tvalidation_0-logloss:0.011596\tvalidation_1-error:0.027972\tvalidation_1-logloss:0.100905\n",
      "[96]\tvalidation_0-error:0\tvalidation_0-logloss:0.011326\tvalidation_1-error:0.027972\tvalidation_1-logloss:0.101027\n",
      "[97]\tvalidation_0-error:0\tvalidation_0-logloss:0.011232\tvalidation_1-error:0.027972\tvalidation_1-logloss:0.101043\n",
      "[98]\tvalidation_0-error:0\tvalidation_0-logloss:0.011114\tvalidation_1-error:0.027972\tvalidation_1-logloss:0.101829\n",
      "[99]\tvalidation_0-error:0\tvalidation_0-logloss:0.011007\tvalidation_1-error:0.027972\tvalidation_1-logloss:0.102294\n"
     ]
    },
    {
     "data": {
      "text/plain": [
       "XGBClassifier(base_score=0.5, booster='gbtree', colsample_bylevel=1,\n",
       "       colsample_bytree=1, gamma=0, learning_rate=0.1, max_delta_step=0,\n",
       "       max_depth=3, min_child_weight=1, missing=None, n_estimators=100,\n",
       "       n_jobs=1, nthread=None, objective='binary:logistic', random_state=0,\n",
       "       reg_alpha=0, reg_lambda=1, scale_pos_weight=1, seed=None,\n",
       "       silent=True, subsample=1)"
      ]
     },
     "execution_count": 99,
     "metadata": {},
     "output_type": "execute_result"
    }
   ],
   "source": [
    "# train and fit our xgboost\n",
    "from xgboost import XGBClassifier\n",
    "xgboost = XGBClassifier()\n",
    "# Monitoring Training Performance With XGBoost Early Stopping to Avoid Overfitting\n",
    "eval_set = [(X_train, y_train), (X_test, y_test)]\n",
    "xgboost.fit(X_train, y_train, eval_metric=[\"error\", \"logloss\"], eval_set=eval_set,\n",
    "    verbose=True)"
   ]
  },
  {
   "cell_type": "code",
   "execution_count": 100,
   "metadata": {
    "collapsed": true
   },
   "outputs": [],
   "source": [
    "#XGBoost Learning Curves For Log Loss    \n",
    "def plot_logloss(results):\n",
    "    x_axis = range(0, 50)\n",
    "    # plot log loss\n",
    "    fig, ax = plt.subplots()\n",
    "    ax.plot(x_axis, results['validation_0']['logloss'][:50], label='Train') \n",
    "    ax.plot(x_axis, results['validation_1']['logloss'][:50], label='Test') \n",
    "    ax.legend()\n",
    "    plt.ylabel('Log Loss')\n",
    "    plt.title('XGBoost Log Loss')\n",
    "    plt.show()\n",
    "\n",
    "\n",
    "#XGBoost Learning Curves For Classification Error\n",
    "def plot_classif_error(results):\n",
    "    x_axis = range(0, 50)\n",
    "    # plot classification error\n",
    "    fig, ax = plt.subplots()\n",
    "    ax.plot(x_axis, results['validation_0']['error'][:50], label='Train') \n",
    "    ax.plot(x_axis, results['validation_1']['error'][:50], label='Test') \n",
    "    ax.legend()\n",
    "    plt.ylabel('Classification Error')\n",
    "    plt.title('XGBoost Classification Error')\n",
    "    plt.show()"
   ]
  },
  {
   "cell_type": "code",
   "execution_count": 83,
   "metadata": {},
   "outputs": [
    {
     "data": {
      "text/plain": [
       "[0.97801489, 0.99501944, 0.0017546152, 0.99797457, 0.001200755]"
      ]
     },
     "execution_count": 83,
     "metadata": {},
     "output_type": "execute_result"
    }
   ],
   "source": [
    "# make predictions for test data\n",
    "y_pred = model.predict_proba(X_test)\n",
    "y_pred_pos = [pred[1] for pred in y_pred]\n",
    "y_pred_pos[:5]"
   ]
  },
  {
   "cell_type": "code",
   "execution_count": 102,
   "metadata": {
    "collapsed": true
   },
   "outputs": [],
   "source": [
    "# retrieve performance metrics to measure for early stoping\n",
    "results = xgboost.evals_result()"
   ]
  },
  {
   "cell_type": "code",
   "execution_count": 103,
   "metadata": {},
   "outputs": [
    {
     "data": {
      "image/png": "[encoded data removed]",
      "text/plain": [
       "<matplotlib.figure.Figure at 0x11e064cf8>"
      ]
     },
     "metadata": {},
     "output_type": "display_data"
    }
   ],
   "source": [
    "#plot log loss function\n",
    "plot_logloss(results)"
   ]
  },
  {
   "cell_type": "code",
   "execution_count": 104,
   "metadata": {},
   "outputs": [
    {
     "data": {
      "image/png": "[encoded data removed]",
      "text/plain": [
       "<matplotlib.figure.Figure at 0x11e05efd0>"
      ]
     },
     "metadata": {},
     "output_type": "display_data"
    }
   ],
   "source": [
    "#plot log loss function\n",
    "plot_classif_error(results)"
   ]
  },
  {
   "cell_type": "markdown",
   "metadata": {
    "collapsed": true
   },
   "source": [
    "# Area under ROC curve\n",
    "\n",
    "We will use AUROC curve as our evaluation metric, it is strong for classification tasks.\n",
    "\n",
    "Area under ROC curve is equivalent to the probability that a randomly chosen '0' observation ranks higher (has a higher predicted probability) than a randomly chosen '1' observation.\n",
    "\n",
    "Since it's choosing one random positve and one random negative, it doesn't care about imbalanced classes."
   ]
  },
  {
   "cell_type": "code",
   "execution_count": 84,
   "metadata": {
    "collapsed": true
   },
   "outputs": [],
   "source": [
    "#import metrics\n",
    "from sklearn.metrics import roc_curve, auc\n",
    "fpr, tpr, thresh = roc_curve(y_test, y_pred_pos)"
   ]
  },
  {
   "cell_type": "markdown",
   "metadata": {
    "collapsed": true
   },
   "source": [
    "roc_curve() returns 3 lists of equal length:\n",
    "\n",
    "1. False positive rates\n",
    "2. True positive rates\n",
    "3. And the thresholds at which the those were calculated."
   ]
  },
  {
   "cell_type": "code",
   "execution_count": 85,
   "metadata": {},
   "outputs": [
    {
     "data": {
      "text/html": [
       "<div>\n",
       "<style>\n",
       "    .dataframe thead tr:only-child th {\n",
       "        text-align: right;\n",
       "    }\n",
       "\n",
       "    .dataframe thead th {\n",
       "        text-align: left;\n",
       "    }\n",
       "\n",
       "    .dataframe tbody tr th {\n",
       "        vertical-align: top;\n",
       "    }\n",
       "</style>\n",
       "<table border=\"1\" class=\"dataframe\">\n",
       "  <thead>\n",
       "    <tr style=\"text-align: right;\">\n",
       "      <th></th>\n",
       "      <th>FPR</th>\n",
       "      <th>TPR</th>\n",
       "      <th>Thresholds</th>\n",
       "    </tr>\n",
       "  </thead>\n",
       "  <tbody>\n",
       "    <tr>\n",
       "      <th>0</th>\n",
       "      <td>0.000000</td>\n",
       "      <td>0.017544</td>\n",
       "      <td>0.999116</td>\n",
       "    </tr>\n",
       "    <tr>\n",
       "      <th>1</th>\n",
       "      <td>0.000000</td>\n",
       "      <td>0.912281</td>\n",
       "      <td>0.894106</td>\n",
       "    </tr>\n",
       "    <tr>\n",
       "      <th>2</th>\n",
       "      <td>0.011628</td>\n",
       "      <td>0.912281</td>\n",
       "      <td>0.875458</td>\n",
       "    </tr>\n",
       "    <tr>\n",
       "      <th>3</th>\n",
       "      <td>0.011628</td>\n",
       "      <td>0.964912</td>\n",
       "      <td>0.464480</td>\n",
       "    </tr>\n",
       "    <tr>\n",
       "      <th>4</th>\n",
       "      <td>0.139535</td>\n",
       "      <td>0.964912</td>\n",
       "      <td>0.079916</td>\n",
       "    </tr>\n",
       "    <tr>\n",
       "      <th>5</th>\n",
       "      <td>0.139535</td>\n",
       "      <td>0.982456</td>\n",
       "      <td>0.042150</td>\n",
       "    </tr>\n",
       "    <tr>\n",
       "      <th>6</th>\n",
       "      <td>0.232558</td>\n",
       "      <td>0.982456</td>\n",
       "      <td>0.008708</td>\n",
       "    </tr>\n",
       "    <tr>\n",
       "      <th>7</th>\n",
       "      <td>0.232558</td>\n",
       "      <td>1.000000</td>\n",
       "      <td>0.008379</td>\n",
       "    </tr>\n",
       "    <tr>\n",
       "      <th>8</th>\n",
       "      <td>1.000000</td>\n",
       "      <td>1.000000</td>\n",
       "      <td>0.000691</td>\n",
       "    </tr>\n",
       "  </tbody>\n",
       "</table>\n",
       "</div>"
      ],
      "text/plain": [
       "        FPR       TPR  Thresholds\n",
       "0  0.000000  0.017544    0.999116\n",
       "1  0.000000  0.912281    0.894106\n",
       "2  0.011628  0.912281    0.875458\n",
       "3  0.011628  0.964912    0.464480\n",
       "4  0.139535  0.964912    0.079916\n",
       "5  0.139535  0.982456    0.042150\n",
       "6  0.232558  0.982456    0.008708\n",
       "7  0.232558  1.000000    0.008379\n",
       "8  1.000000  1.000000    0.000691"
      ]
     },
     "execution_count": 85,
     "metadata": {},
     "output_type": "execute_result"
    }
   ],
   "source": [
    "# Store fpr, tpr, thresholds in DataFrame and display first 10\n",
    "roc = pd.DataFrame({'FPR': fpr, 'TPR': tpr, 'Thresholds': thresh})\n",
    "roc.head(10)"
   ]
  },
  {
   "cell_type": "markdown",
   "metadata": {},
   "source": [
    "**Note**: For illness classfication, although we want to minimize false postive rate, but more importantly- for a cancer diagnosis- we want to err on the side of caution.. for further tests to precede. \n",
    "\n",
    "That is we'd rather allow some false positives for a 1.0 true positive rates, as long as there are no false negatives."
   ]
  },
  {
   "cell_type": "markdown",
   "metadata": {},
   "source": [
    "- Plotting our model's entire curve ROC curve to visualize the relationship between TPR (True Positive Rate) and FPR (False Positive Rate) across our model's threshold values\n",
    "- also plotting ROC curve of a hypothetical model that makes completely random predictions for heuristic reasons (dashed line)."
   ]
  },
  {
   "cell_type": "code",
   "execution_count": 86,
   "metadata": {},
   "outputs": [
    {
     "data": {
      "image/png": "[encoded data removed]",
      "text/plain": [
       "<matplotlib.figure.Figure at 0x10fdf5cf8>"
      ]
     },
     "metadata": {},
     "output_type": "display_data"
    }
   ],
   "source": [
    "# Initialize figure\n",
    "plt.figure(figsize=(8,8))\n",
    "plt.title('Receiver Operating Characteristic')\n",
    "\n",
    "# Plot ROC curve\n",
    "plt.plot(fpr, tpr, label='XG Boost')\n",
    "plt.legend(loc='lower right')\n",
    "\n",
    "# Diagonal 45 degree line\n",
    "# ROC curve of a completely random model\n",
    "plt.plot([0,1],[0,1],'k--')\n",
    "\n",
    "# Axes limits and labels\n",
    "plt.xlim([-0.1,1.1])\n",
    "plt.ylim([-0.1,1.1])\n",
    "plt.ylabel('True Positive Rate')\n",
    "plt.xlabel('False Positive Rate')\n",
    "plt.show()"
   ]
  },
  {
   "cell_type": "markdown",
   "metadata": {},
   "source": [
    "**Calcualting Area underneath ROC curve (AUROC)**"
   ]
  },
  {
   "cell_type": "code",
   "execution_count": 98,
   "metadata": {},
   "outputs": [
    {
     "name": "stdout",
     "output_type": "stream",
     "text": [
      "0.99286005712\n"
     ]
    }
   ],
   "source": [
    "# Calculate ROC curve again because repetition is the mother of learning\n",
    "fpr, tpr, thresholds = roc_curve(y_test, y_pred_pos)\n",
    "# Calculate AUROC\n",
    "print( auc(fpr, tpr))"
   ]
  },
  {
   "cell_type": "markdown",
   "metadata": {},
   "source": [
    "###### Not much need to tune our hyperparameters, as our xgboost model does extremely well on this dataset"
   ]
  },
  {
   "cell_type": "markdown",
   "metadata": {},
   "source": [
    "###### **NOTE**: Look at xgboost_diabetes for example of in-depth tuning of XGBoost model"
   ]
  },
  {
   "cell_type": "code",
   "execution_count": null,
   "metadata": {
    "collapsed": true
   },
   "outputs": [],
   "source": []
  }
 ],
 "metadata": {
  "kernelspec": {
   "display_name": "Python 3",
   "language": "python",
   "name": "python3"
  },
  "language_info": {
   "codemirror_mode": {
    "name": "ipython",
    "version": 3
   },
   "file_extension": ".py",
   "mimetype": "text/x-python",
   "name": "python",
   "nbconvert_exporter": "python",
   "pygments_lexer": "ipython3",
   "version": "3.6.4"
  }
 },
 "nbformat": 4,
 "nbformat_minor": 2
}
